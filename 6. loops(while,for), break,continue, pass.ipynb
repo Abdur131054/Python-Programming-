{
 "cells": [
  {
   "cell_type": "markdown",
   "id": "825a473d-2dba-4e8a-b0be-fca2528204b7",
   "metadata": {},
   "source": [
    "***Loops***"
   ]
  },
  {
   "cell_type": "markdown",
   "id": "b707504a-1125-4f16-af0c-ba821c7cc399",
   "metadata": {},
   "source": [
    "To learn any programming language, it is important to understand loops. A loop, also called an iteration control block, is used in programming when a task needs to be performed repeatedly. Instead of writing the same code multiple times, we can place the task inside a loop, and it will execute as many times as required."
   ]
  },
  {
   "cell_type": "markdown",
   "id": "f4652172-8f74-476d-bb45-fac0fc603dd7",
   "metadata": {},
   "source": [
    "Example: Suppose you are eating rice. You don’t take all the rice at once; instead, you take one spoon at a time and repeat the action until your plate is empty.\n",
    "This repeating action (taking a spoon of rice again and again) is just like a loop in programming.\n",
    "\n",
    "In simple words:\n",
    "\n",
    "Condition → Plate is not empty\n",
    "\n",
    "Action → Take one spoon and eat\n",
    "\n",
    "Repeat → Until the plate becomes empty"
   ]
  },
  {
   "cell_type": "markdown",
   "id": "8b0638d1-4bd8-4903-a346-42e5430ba816",
   "metadata": {},
   "source": [
    "<br>Python has two loops <br> <br>While loops<br>  For Loops  "
   ]
  },
  {
   "cell_type": "markdown",
   "id": "6730a3a3-8c07-4b14-b994-893d16905488",
   "metadata": {},
   "source": [
    "**While Loops**"
   ]
  },
  {
   "cell_type": "markdown",
   "id": "2fac90e6-af52-4d28-939a-d1cf20083d71",
   "metadata": {},
   "source": [
    "With the while loop we can execute a set of statements as long as a condition is true."
   ]
  },
  {
   "cell_type": "code",
   "execution_count": 19,
   "id": "ad025780-2596-49f0-9445-0e773f7f13bc",
   "metadata": {},
   "outputs": [
    {
     "name": "stdin",
     "output_type": "stream",
     "text": [
      "Enter a number 10\n"
     ]
    },
    {
     "name": "stdout",
     "output_type": "stream",
     "text": [
      "10\n",
      "20\n",
      "30\n",
      "40\n",
      "50\n",
      "60\n",
      "70\n",
      "80\n",
      "90\n",
      "100\n"
     ]
    }
   ],
   "source": [
    "number =int(input('Enter a number'))# input() function always returns value as a string. So, we need to use int() if we want to take integer input\n",
    "i=1\n",
    "while i<11:\n",
    "    print(number * i)\n",
    "    i+=1"
   ]
  },
  {
   "cell_type": "code",
   "execution_count": 20,
   "id": "5df2f4e1-2e03-420b-acff-ed5049c62ce4",
   "metadata": {},
   "outputs": [
    {
     "name": "stdout",
     "output_type": "stream",
     "text": [
      "1\n",
      "2\n",
      "3\n",
      "4\n",
      "5\n"
     ]
    }
   ],
   "source": [
    "i=1\n",
    "while i<6:\n",
    "    print(i)\n",
    "    i+=1"
   ]
  },
  {
   "cell_type": "code",
   "execution_count": 21,
   "id": "2e1625a1-cc2f-48b6-8f8c-9dc6c3ccb80b",
   "metadata": {},
   "outputs": [
    {
     "name": "stdin",
     "output_type": "stream",
     "text": [
      "Enter A Number 10\n"
     ]
    },
    {
     "name": "stdout",
     "output_type": "stream",
     "text": [
      "10 * 1 = 10\n",
      "10 * 2 = 20\n",
      "10 * 3 = 30\n",
      "10 * 4 = 40\n",
      "10 * 5 = 50\n",
      "10 * 6 = 60\n",
      "10 * 7 = 70\n",
      "10 * 8 = 80\n",
      "10 * 9 = 90\n",
      "10 * 10 = 100\n"
     ]
    }
   ],
   "source": [
    "number= int(input(\"Enter A Number\"))\n",
    "i=1\n",
    "while i<11:\n",
    "    print(number, '*', i, '=',number * i)\n",
    "    i+=1"
   ]
  },
  {
   "cell_type": "markdown",
   "id": "bca10e55-2bd4-416c-93f0-fee8aae15110",
   "metadata": {},
   "source": [
    "A while loop is very simple. You just need to provide a condition. The loop will keep running as long as the condition is true. Once the condition becomes false, the loop stops automatically."
   ]
  },
  {
   "cell_type": "markdown",
   "id": "7191fb51-23e0-44fd-948f-c838e89dd53a",
   "metadata": {},
   "source": [
    "****Guessing Game****"
   ]
  },
  {
   "cell_type": "markdown",
   "id": "912ce9d0-89bb-480a-a302-389219f7bcdd",
   "metadata": {},
   "source": [
    "We will now create a guessing game. When the program starts, it will automatically select a random number, which will be the jackpot number. The user has to guess that number.\n",
    "\n",
    "For example, suppose the jackpot number is 50.\n",
    "\n",
    "The program will ask the user to make a guess.\n",
    "\n",
    "If the user guesses 25, the program will say: “Wrong, guess higher.”\n",
    "\n",
    "If the user guesses 40, the program will again say: “Wrong, guess higher.”\n",
    "\n",
    "If the user guesses 60, the program will say: “Wrong, guess lower.”\n",
    "\n",
    "Finally, if the user guesses 50, the program will say: “Correct!”\n",
    "\n",
    "The program will also keep track of the number of attempts and tell the user how many guesses were made (in this case, 4 attempts)."
   ]
  },
  {
   "cell_type": "code",
   "execution_count": 13,
   "id": "8cf7ae5a-671b-422d-853a-df66dc095a14",
   "metadata": {},
   "outputs": [],
   "source": [
    "#importing random module\n",
    "import random"
   ]
  },
  {
   "cell_type": "code",
   "execution_count": 14,
   "id": "0569cc6f-7922-4c93-8c03-6b98e068054d",
   "metadata": {},
   "outputs": [
    {
     "data": {
      "text/plain": [
       "67"
      ]
     },
     "execution_count": 14,
     "metadata": {},
     "output_type": "execute_result"
    }
   ],
   "source": [
    "# generating random integer between 1 to 100\n",
    "random.randint(1,100)"
   ]
  },
  {
   "cell_type": "code",
   "execution_count": 15,
   "id": "a5ace28a-8968-4786-a1e7-1e2ccc5f0c98",
   "metadata": {},
   "outputs": [
    {
     "name": "stdin",
     "output_type": "stream",
     "text": [
      "Guess a Number 45\n"
     ]
    },
    {
     "name": "stdout",
     "output_type": "stream",
     "text": [
      "Wrong! Guess Heigher\n"
     ]
    },
    {
     "name": "stdin",
     "output_type": "stream",
     "text": [
      "Guess a Number 55\n"
     ]
    },
    {
     "name": "stdout",
     "output_type": "stream",
     "text": [
      "Wrong! Guess Heigher\n"
     ]
    },
    {
     "name": "stdin",
     "output_type": "stream",
     "text": [
      "Guess a Number 60\n"
     ]
    },
    {
     "name": "stdout",
     "output_type": "stream",
     "text": [
      "Wrong! Guess Heigher\n"
     ]
    },
    {
     "name": "stdin",
     "output_type": "stream",
     "text": [
      "Guess a Number 70\n"
     ]
    },
    {
     "name": "stdout",
     "output_type": "stream",
     "text": [
      "Wrong! Guess Heigher\n"
     ]
    },
    {
     "name": "stdin",
     "output_type": "stream",
     "text": [
      "Guess a Number 80\n"
     ]
    },
    {
     "name": "stdout",
     "output_type": "stream",
     "text": [
      "Wrong! Guess Heigher\n"
     ]
    },
    {
     "name": "stdin",
     "output_type": "stream",
     "text": [
      "Guess a Number 90\n"
     ]
    },
    {
     "name": "stdout",
     "output_type": "stream",
     "text": [
      "Wrong! Guess Heigher\n"
     ]
    },
    {
     "name": "stdin",
     "output_type": "stream",
     "text": [
      "Guess a Number 91\n"
     ]
    },
    {
     "name": "stdout",
     "output_type": "stream",
     "text": [
      "Correct guess\n"
     ]
    }
   ],
   "source": [
    "jackpot= random.randint(1,100)\n",
    "\n",
    "# the user input is stored in a variable named guess\n",
    "guess= int(input(\"Guess a Number\")) # Type converted, otherwise output will be string\n",
    "\n",
    "while guess!=jackpot:\n",
    "    if guess>jackpot:\n",
    "        print(\"Wrong! Guess lower\")\n",
    "    else:\n",
    "        print(\"Wrong! Guess Heigher\")\n",
    "    guess= int(input(\"Guess a Number\"))\n",
    "\n",
    "print(\"Correct guess\")\n"
   ]
  },
  {
   "cell_type": "code",
   "execution_count": 17,
   "id": "142dfc6b-67dc-422e-8f49-760061c45c4e",
   "metadata": {},
   "outputs": [
    {
     "name": "stdin",
     "output_type": "stream",
     "text": [
      "Guess a Number 44\n"
     ]
    },
    {
     "name": "stdout",
     "output_type": "stream",
     "text": [
      "Wrong! Guess lower\n"
     ]
    },
    {
     "name": "stdin",
     "output_type": "stream",
     "text": [
      "Guess a Number 30\n"
     ]
    },
    {
     "name": "stdout",
     "output_type": "stream",
     "text": [
      "Wrong! Guess Heigher\n"
     ]
    },
    {
     "name": "stdin",
     "output_type": "stream",
     "text": [
      "Guess a Number 35\n"
     ]
    },
    {
     "name": "stdout",
     "output_type": "stream",
     "text": [
      "Wrong! Guess lower\n"
     ]
    },
    {
     "name": "stdin",
     "output_type": "stream",
     "text": [
      "Guess a Number 33\n"
     ]
    },
    {
     "name": "stdout",
     "output_type": "stream",
     "text": [
      "Wrong! Guess lower\n"
     ]
    },
    {
     "name": "stdin",
     "output_type": "stream",
     "text": [
      "Guess a Number 32\n"
     ]
    },
    {
     "name": "stdout",
     "output_type": "stream",
     "text": [
      "Wrong! Guess lower\n"
     ]
    },
    {
     "name": "stdin",
     "output_type": "stream",
     "text": [
      "Guess a Number 31\n"
     ]
    },
    {
     "name": "stdout",
     "output_type": "stream",
     "text": [
      "Correct guess\n",
      "You took 6 attempts\n"
     ]
    }
   ],
   "source": [
    "jackpot= random.randint(1,100)\n",
    "\n",
    "# the user input is stored in a variable named guess\n",
    "guess = int(input(\"Guess a Number\")) # Type converted, otherwise output will be string\n",
    "counter=1\n",
    "while guess!=jackpot:\n",
    "    if guess>jackpot:\n",
    "        print(\"Wrong! Guess lower\")\n",
    "    else:\n",
    "        print(\"Wrong! Guess Heigher\")\n",
    "    guess = int(input(\"Guess a Number\"))\n",
    "    counter+=1\n",
    "print(\"Correct guess\")\n",
    "print(\"You took\", counter, \"attempts\")"
   ]
  },
  {
   "cell_type": "code",
   "execution_count": 18,
   "id": "fa18f0a7-caad-4169-8826-7274c1d2ea25",
   "metadata": {},
   "outputs": [
    {
     "name": "stdin",
     "output_type": "stream",
     "text": [
      "Guess a Number:  34\n"
     ]
    },
    {
     "name": "stdout",
     "output_type": "stream",
     "text": [
      "Wrong! Guess lower\n"
     ]
    },
    {
     "name": "stdin",
     "output_type": "stream",
     "text": [
      "Guess a Number:  30\n"
     ]
    },
    {
     "name": "stdout",
     "output_type": "stream",
     "text": [
      "Wrong! Guess lower\n"
     ]
    },
    {
     "name": "stdin",
     "output_type": "stream",
     "text": [
      "Guess a Number:  25\n"
     ]
    },
    {
     "name": "stdout",
     "output_type": "stream",
     "text": [
      "Wrong! Guess lower\n"
     ]
    },
    {
     "name": "stdin",
     "output_type": "stream",
     "text": [
      "Guess a Number:  20\n"
     ]
    },
    {
     "name": "stdout",
     "output_type": "stream",
     "text": [
      "Correct guess!\n",
      "You took 4 attempts\n"
     ]
    }
   ],
   "source": [
    "# The jackpot number is randomly selected between 1 and 100\n",
    "jackpot = random.randint(1, 100)\n",
    "\n",
    "# The user input is stored in a variable named guess\n",
    "# Type converted to int, otherwise input() returns a string\n",
    "guess = int(input(\"Guess a Number: \"))\n",
    "counter = 1\n",
    "\n",
    "# Loop until the user guesses the jackpot number\n",
    "while guess != jackpot:\n",
    "    if guess > jackpot:\n",
    "        print(\"Wrong! Guess lower\")\n",
    "    else:\n",
    "        print(\"Wrong! Guess higher\")\n",
    "    \n",
    "    guess = int(input(\"Guess a Number: \"))\n",
    "    counter += 1\n",
    "\n",
    "print(\"Correct guess!\")\n",
    "print(\"You took\", counter, \"attempts\")"
   ]
  },
  {
   "cell_type": "markdown",
   "id": "b570727c-c173-420d-bc6c-75b488843337",
   "metadata": {},
   "source": [
    "**For Loops**"
   ]
  },
  {
   "cell_type": "code",
   "execution_count": null,
   "id": "61c75093-1f45-4f12-8bf7-2cb2845bb20c",
   "metadata": {},
   "outputs": [],
   "source": []
  },
  {
   "cell_type": "markdown",
   "id": "1b7635db-9f66-4693-8dfa-7dc4d802ddb2",
   "metadata": {},
   "source": [
    "To understand the for loop in a Python program, you need to understand two things:\n",
    "\n",
    "1. The range() function\n",
    "\n",
    "2. Sequences"
   ]
  },
  {
   "cell_type": "markdown",
   "id": "94fefbbe-0d70-4be8-b6f1-f376eb99e34b",
   "metadata": {},
   "source": [
    "***range function***"
   ]
  },
  {
   "cell_type": "code",
   "execution_count": 25,
   "id": "4be4c426-224b-40a6-9ef8-ac07353fb0b7",
   "metadata": {},
   "outputs": [
    {
     "data": {
      "text/plain": [
       "range(1, 11)"
      ]
     },
     "execution_count": 25,
     "metadata": {},
     "output_type": "execute_result"
    }
   ],
   "source": [
    "# range function ( generate integer numbers within given range)\n",
    "\n",
    "range (1,11)"
   ]
  },
  {
   "cell_type": "markdown",
   "id": "b9676b25-120a-4424-a303-ec770ea41997",
   "metadata": {},
   "source": [
    "What we have written is showing the output. But internally it has generated numbers from 1 to 10, not 11. The first number is included, but the last number is excluded. If we want to see which numbers have been generated, we need to convert it into a data type like a list so that we can view them."
   ]
  },
  {
   "cell_type": "code",
   "execution_count": 27,
   "id": "21d05b4a-c4ca-4175-a651-46821950cdb0",
   "metadata": {},
   "outputs": [
    {
     "data": {
      "text/plain": [
       "[1, 2, 3, 4, 5, 6, 7, 8, 9, 10]"
      ]
     },
     "execution_count": 27,
     "metadata": {},
     "output_type": "execute_result"
    }
   ],
   "source": [
    "#convert range function to a data type list\n",
    "list(range(1,11))"
   ]
  },
  {
   "cell_type": "code",
   "execution_count": 28,
   "id": "e279cd65-50dc-4c4f-984f-0a66db646db1",
   "metadata": {},
   "outputs": [
    {
     "data": {
      "text/plain": [
       "range(0, 5)"
      ]
     },
     "execution_count": 28,
     "metadata": {},
     "output_type": "execute_result"
    }
   ],
   "source": [
    "range(5)"
   ]
  },
  {
   "cell_type": "markdown",
   "id": "625ca2a4-4c70-4bde-873a-525e6201f5cf",
   "metadata": {},
   "source": [
    "The range function takes three arguments: start, stop, and step. If we give only 5 inside the range function, it automatically considers it as the stop value and takes the start value as 0 by default."
   ]
  },
  {
   "cell_type": "code",
   "execution_count": 29,
   "id": "f3ab71f1-c6f7-42c2-b407-a0cd4108f83c",
   "metadata": {},
   "outputs": [
    {
     "data": {
      "text/plain": [
       "[0, 1, 2, 3, 4]"
      ]
     },
     "execution_count": 29,
     "metadata": {},
     "output_type": "execute_result"
    }
   ],
   "source": [
    "list(range(5))"
   ]
  },
  {
   "cell_type": "code",
   "execution_count": 30,
   "id": "cf598cc6-0360-40cc-86d8-25fa4513e788",
   "metadata": {},
   "outputs": [
    {
     "data": {
      "text/plain": [
       "range(1, 11, 2)"
      ]
     },
     "execution_count": 30,
     "metadata": {},
     "output_type": "execute_result"
    }
   ],
   "source": [
    "range(1,11,2)"
   ]
  },
  {
   "cell_type": "code",
   "execution_count": 31,
   "id": "0aa1c4b9-a0c7-49cb-94d9-1abea56aa46c",
   "metadata": {},
   "outputs": [
    {
     "data": {
      "text/plain": [
       "[1, 3, 5, 7, 9]"
      ]
     },
     "execution_count": 31,
     "metadata": {},
     "output_type": "execute_result"
    }
   ],
   "source": [
    "list(range(1,11,2))"
   ]
  },
  {
   "cell_type": "code",
   "execution_count": 32,
   "id": "bb24eff6-620e-40bb-8e4c-ea1f6aeef72b",
   "metadata": {},
   "outputs": [
    {
     "data": {
      "text/plain": [
       "[10, 9, 8, 7, 6, 5, 4, 3, 2, 1]"
      ]
     },
     "execution_count": 32,
     "metadata": {},
     "output_type": "execute_result"
    }
   ],
   "source": [
    "#when need to count backward\n",
    "list(range(10,0,-1))"
   ]
  },
  {
   "cell_type": "markdown",
   "id": "4ae04978-ee15-48a2-8ce7-8027bbf476df",
   "metadata": {},
   "source": [
    "***sequence***\n"
   ]
  },
  {
   "cell_type": "markdown",
   "id": "ee5aac8b-20e4-4805-9a1a-1e9ba0fd76be",
   "metadata": {},
   "source": [
    "A sequence means an order. Anything we get in an ordered form is called a sequence. For example, a string. If we print \"Dhaka\", it is actually a sequence of characters."
   ]
  },
  {
   "cell_type": "code",
   "execution_count": 35,
   "id": "86279735-4a65-4af0-8f9c-30c22ce5296c",
   "metadata": {},
   "outputs": [
    {
     "data": {
      "text/plain": [
       "'dhaka'"
      ]
     },
     "execution_count": 35,
     "metadata": {},
     "output_type": "execute_result"
    }
   ],
   "source": [
    "'dhaka'"
   ]
  },
  {
   "cell_type": "code",
   "execution_count": 36,
   "id": "51c773c3-f9ee-4c01-b6d3-089790dafd18",
   "metadata": {},
   "outputs": [
    {
     "data": {
      "text/plain": [
       "['Dhaka', 'Rajshahi', 'Bogura']"
      ]
     },
     "execution_count": 36,
     "metadata": {},
     "output_type": "execute_result"
    }
   ],
   "source": [
    "#sequence of words \n",
    "\n",
    "['Dhaka', 'Rajshahi', 'Bogura']"
   ]
  },
  {
   "cell_type": "code",
   "execution_count": 37,
   "id": "595288ea-a1a4-4eb4-9761-121bd4ed4dd6",
   "metadata": {},
   "outputs": [
    {
     "data": {
      "text/plain": [
       "('Dhaka', 'Bogura', 'Rajshahi')"
      ]
     },
     "execution_count": 37,
     "metadata": {},
     "output_type": "execute_result"
    }
   ],
   "source": [
    "('Dhaka', 'Bogura', 'Rajshahi')"
   ]
  },
  {
   "cell_type": "markdown",
   "id": "fce846b8-1505-40ae-9ef0-257778953162",
   "metadata": {},
   "source": [
    "Strings, Lists, and Tuples are sequences"
   ]
  },
  {
   "cell_type": "markdown",
   "id": "62f18492-a9e4-4d6d-9609-180d0a9d4d4e",
   "metadata": {},
   "source": [
    "We studied the range() function before the for loop because a for loop needs something to iterate over.\n",
    "A for loop can iterate over a sequence (like a string, list, or tuple) or over the range() function, which generates a sequence of numbers.\n",
    "\n",
    "That’s why learning the range function first makes it easier to understand how the for loop works."
   ]
  },
  {
   "cell_type": "code",
   "execution_count": 38,
   "id": "62823923-59f9-499e-9863-4c0f299df976",
   "metadata": {},
   "outputs": [
    {
     "name": "stdout",
     "output_type": "stream",
     "text": [
      "1\n",
      "2\n",
      "3\n",
      "4\n",
      "5\n",
      "6\n",
      "7\n",
      "8\n",
      "9\n",
      "10\n"
     ]
    }
   ],
   "source": [
    "#example of for loop in range function \n",
    "\n",
    "for i in range(1,11):\n",
    "    print(i)"
   ]
  },
  {
   "cell_type": "code",
   "execution_count": 39,
   "id": "22ba7962-ab7a-4c87-9cf2-86d7296abe43",
   "metadata": {},
   "outputs": [
    {
     "name": "stdout",
     "output_type": "stream",
     "text": [
      "1\n",
      "3\n",
      "5\n",
      "7\n",
      "9\n"
     ]
    }
   ],
   "source": [
    "for i in range(1,11,2):\n",
    "    print(i)"
   ]
  },
  {
   "cell_type": "code",
   "execution_count": 40,
   "id": "822a7894-1714-4d00-bf01-daf63778d523",
   "metadata": {},
   "outputs": [
    {
     "name": "stdout",
     "output_type": "stream",
     "text": [
      "11\n",
      "10\n",
      "9\n",
      "8\n",
      "7\n",
      "6\n",
      "5\n",
      "4\n",
      "3\n",
      "2\n",
      "1\n"
     ]
    }
   ],
   "source": [
    "for i in range(11,0,-1):\n",
    "    print(i)"
   ]
  },
  {
   "cell_type": "markdown",
   "id": "2dbfeed3-85c0-405c-b969-3f7b17e4828a",
   "metadata": {},
   "source": [
    "In a Python for loop, we provide an object. This object can be a range() function or a sequence. The for loop will iterate over that object, meaning it will go through each element one by one.\n",
    "\n",
    "There is no explicit termination condition in a for loop. The loop automatically ends when the object is exhausted."
   ]
  },
  {
   "cell_type": "code",
   "execution_count": 41,
   "id": "c16da940-57d8-4b53-a3ad-dce61de92c67",
   "metadata": {},
   "outputs": [
    {
     "name": "stdout",
     "output_type": "stream",
     "text": [
      "D\n",
      "h\n",
      "a\n",
      "k\n",
      "a\n"
     ]
    }
   ],
   "source": [
    "for i in ('Dhaka'):\n",
    "    print(i)"
   ]
  },
  {
   "cell_type": "code",
   "execution_count": 42,
   "id": "d391754c-0707-4509-9a3f-213ce41d76cc",
   "metadata": {},
   "outputs": [
    {
     "name": "stdout",
     "output_type": "stream",
     "text": [
      "1\n",
      "2\n",
      "3\n",
      "4\n"
     ]
    }
   ],
   "source": [
    "for i in (1,2,3,4):\n",
    "    print(i)"
   ]
  },
  {
   "cell_type": "code",
   "execution_count": 43,
   "id": "d92d7c3a-cff9-4e18-8a27-cc00052ab251",
   "metadata": {},
   "outputs": [
    {
     "name": "stdout",
     "output_type": "stream",
     "text": [
      "1\n",
      "2\n",
      "3\n",
      "4\n"
     ]
    }
   ],
   "source": [
    "for i in {1,2,3,4}:\n",
    "    print(i)"
   ]
  },
  {
   "cell_type": "code",
   "execution_count": 44,
   "id": "90895e7d-b26e-4512-829e-4c62020071d8",
   "metadata": {},
   "outputs": [
    {
     "name": "stdout",
     "output_type": "stream",
     "text": [
      "1\n",
      "2\n",
      "3\n",
      "4\n"
     ]
    }
   ],
   "source": [
    "for i in [1,2,3,4]:\n",
    "    print(i)"
   ]
  },
  {
   "cell_type": "markdown",
   "id": "6dfe3e63-ffb7-4cf8-adb6-c8f9b753042a",
   "metadata": {},
   "source": [
    "We have learned both while loop and for loop, but the question is: when should we use which one?\n",
    "\n",
    "Use a for loop when we know in advance how many times the loop should run.\n",
    "\n",
    "Use a while loop when we do not know in advance how many times it will run.\n",
    "\n",
    "For example, in a guessing game program, we don’t know beforehand how many attempts the user will take, so we use a while loop."
   ]
  },
  {
   "cell_type": "markdown",
   "id": "7824557a-16f8-401a-8ab6-4187bd360751",
   "metadata": {},
   "source": [
    "***Nested Loops***"
   ]
  },
  {
   "cell_type": "markdown",
   "id": "b2153b4b-4ed2-4bb8-8adf-d669cbca957a",
   "metadata": {},
   "source": [
    "A nested loop means a loop inside another loop.\n",
    "Whenever we place one loop inside another—whether it’s 2 times, 3 times, or even 10 times—we call it a nested loop."
   ]
  },
  {
   "cell_type": "markdown",
   "id": "814cd56c-ab8f-4fde-85d5-9c6bf1907d7e",
   "metadata": {},
   "source": [
    "When to use a nested loop is something you learn with experience. While programming, you’ll automatically realize when a single loop isn’t enough to solve a problem and you need another loop inside it.\n",
    "\n",
    "Honestly, nested loops are not ideal because they increase time complexity:\n",
    "\n",
    "Two nested loops → O(n²)\n",
    "\n",
    "Three nested loops → O(n³)\n",
    "\n",
    "This means the larger the input, the more time it will take. So, nested loops are not preferable, but sometimes they are unavoidable.\n",
    "\n",
    "For example, consider building a social media platform. We want to find out how many friends each user has. We’ll need:\n",
    "\n",
    "A loop to go through all users.\n",
    "\n",
    "Another loop inside it to go through each user’s friends.\n",
    "\n",
    "In this case, a nested loop is necessary."
   ]
  },
  {
   "cell_type": "code",
   "execution_count": 45,
   "id": "70a5fb55-99ce-4bfb-941d-61b644b2e04a",
   "metadata": {},
   "outputs": [],
   "source": [
    "# *\n",
    "# **\n",
    "# ***\n",
    "# ****"
   ]
  },
  {
   "cell_type": "code",
   "execution_count": 48,
   "id": "8e6bee27-8b42-4229-9d22-a8579a06bff2",
   "metadata": {},
   "outputs": [
    {
     "name": "stdin",
     "output_type": "stream",
     "text": [
      "Enter the number of rows 5\n"
     ]
    },
    {
     "name": "stdout",
     "output_type": "stream",
     "text": [
      "* \n",
      "* * \n",
      "* * * \n",
      "* * * * \n",
      "* * * * * \n"
     ]
    }
   ],
   "source": [
    "rows = int(input(\"Enter the number of rows\"))  # take number of rows from user\n",
    "for i in range(1, rows+1):                     # outer loop for each row\n",
    "    for j in range(0, i):                      # inner loop for stars in a row\n",
    "        print(\"*\", end=\" \")                     # print star and stay on same line\n",
    "    print(\"\")                                   # move to next line after each row"
   ]
  },
  {
   "cell_type": "markdown",
   "id": "7c5ed1c0-6f7c-4a17-b0a4-bd35d48e2e41",
   "metadata": {},
   "source": [
    "****Loop Control Statements****"
   ]
  },
  {
   "cell_type": "markdown",
   "id": "37384476-788b-4943-a839-6b35c6667524",
   "metadata": {},
   "source": [
    "*Break:* Ends loop immediately.\n",
    "\n",
    "*Continue:* Skips to next iteration.\n",
    "\n",
    "*Pass:* Placeholder; does nothing."
   ]
  },
  {
   "cell_type": "code",
   "execution_count": 52,
   "id": "12486fd3-5b8b-414c-be13-4f6165a095f0",
   "metadata": {},
   "outputs": [
    {
     "name": "stdout",
     "output_type": "stream",
     "text": [
      "1\n",
      "2\n",
      "3\n",
      "4\n"
     ]
    }
   ],
   "source": [
    "for i in range(1,11):\n",
    "    if i==5:\n",
    "        break\n",
    "    print(i)"
   ]
  },
  {
   "cell_type": "markdown",
   "id": "a510ec16-4941-4e7e-9795-dad9a534310a",
   "metadata": {},
   "source": [
    "When do we need to use a break statement?\n",
    "The answer is: in linear searching.\n",
    "\n",
    "Suppose I have a database where a user exists at position 100. We always start searching from the first record. Now imagine I have 100,000 users. I start from the beginning and check: Is this user Abdur? If yes, then great. If not, I move to the next user, and so on.\n",
    "\n",
    "When I finally reach user ID 100 and confirm that it is indeed Abdur, should I continue searching through all 100,000 users? No. At that point, I will immediately use break to stop the loop.\n",
    "\n",
    "This means: whenever, during programming, we realize that the loop’s job is finished at a certain point, we can use the break statement to terminate the loop right there."
   ]
  },
  {
   "cell_type": "code",
   "execution_count": 54,
   "id": "28ffea3b-6fa7-458c-a8af-380a9f0133b0",
   "metadata": {},
   "outputs": [
    {
     "name": "stdout",
     "output_type": "stream",
     "text": [
      "1\n",
      "2\n",
      "3\n",
      "4\n",
      "6\n",
      "7\n",
      "8\n",
      "9\n",
      "10\n"
     ]
    }
   ],
   "source": [
    "for i in range(1,11):\n",
    "    if i==5:\n",
    "        continue\n",
    "    print(i)"
   ]
  },
  {
   "cell_type": "code",
   "execution_count": 55,
   "id": "d97f0eb3-0601-42a1-b291-4c0e78c46f21",
   "metadata": {},
   "outputs": [
    {
     "name": "stdout",
     "output_type": "stream",
     "text": [
      "1\n",
      "Hello\n",
      "2\n",
      "Hello\n",
      "3\n",
      "Hello\n",
      "4\n",
      "Hello\n",
      "6\n",
      "Hello\n",
      "7\n",
      "Hello\n",
      "8\n",
      "Hello\n",
      "9\n",
      "Hello\n",
      "10\n",
      "Hello\n"
     ]
    }
   ],
   "source": [
    "for i in range(1,11):\n",
    "    if i==5:\n",
    "        continue\n",
    "    print(i)\n",
    "    print('Hello')"
   ]
  },
  {
   "cell_type": "markdown",
   "id": "9163ec44-510c-4310-be78-f24cd9fe3e91",
   "metadata": {},
   "source": [
    "Where do we use the continue statement?\n",
    "\n",
    "Suppose we are running an e-commerce website. We want to display every product that is available, but we don’t want to display the ones that are not available.\n",
    "\n",
    "In that case, while writing the program, we can use the continue statement inside the loop to skip the unavailable products and move on to the next iteration."
   ]
  },
  {
   "cell_type": "code",
   "execution_count": 56,
   "id": "b00487ed-8763-4450-b5c6-2c0f6c468809",
   "metadata": {},
   "outputs": [],
   "source": [
    "#pass statement\n"
   ]
  },
  {
   "cell_type": "markdown",
   "id": "02b4b7b2-9399-437c-b464-a102f3f1e608",
   "metadata": {},
   "source": [
    "Where do we use the pass statement?\n",
    "\n",
    "Just like in a quiz game, when we don’t know the answer, we say pass. Similarly, in a Python program, when we start writing code—say we start a for loop—but don’t complete the program yet, we can write a pass statement.\n",
    "\n",
    "This tells the Python interpreter that we want to skip for now. Otherwise, the interpreter will show an error if the block is left empty."
   ]
  },
  {
   "cell_type": "code",
   "execution_count": 58,
   "id": "e92b24db-959f-4821-8dad-57cbadc4b76f",
   "metadata": {},
   "outputs": [
    {
     "ename": "SyntaxError",
     "evalue": "incomplete input (3257971643.py, line 2)",
     "output_type": "error",
     "traceback": [
      "\u001b[1;36m  Cell \u001b[1;32mIn[58], line 2\u001b[1;36m\u001b[0m\n\u001b[1;33m    for i in range(1,11):\u001b[0m\n\u001b[1;37m                         ^\u001b[0m\n\u001b[1;31mSyntaxError\u001b[0m\u001b[1;31m:\u001b[0m incomplete input\n"
     ]
    }
   ],
   "source": [
    "#will give error \n",
    "for i in range(1,11):"
   ]
  },
  {
   "cell_type": "code",
   "execution_count": 59,
   "id": "12a7ea38-2aaf-4e36-a1a2-4eb5e90693ef",
   "metadata": {},
   "outputs": [],
   "source": [
    "for i in range(1,11):\n",
    "    pass"
   ]
  },
  {
   "cell_type": "code",
   "execution_count": null,
   "id": "9f94c93b-2cc3-47f3-9d85-21ae5a935c92",
   "metadata": {},
   "outputs": [],
   "source": []
  },
  {
   "cell_type": "code",
   "execution_count": null,
   "id": "5a09f083-2ccd-4b46-ae53-1b24dc69003c",
   "metadata": {},
   "outputs": [],
   "source": []
  },
  {
   "cell_type": "code",
   "execution_count": null,
   "id": "75580236-b23d-4537-91cd-69af4d2d78eb",
   "metadata": {},
   "outputs": [],
   "source": []
  },
  {
   "cell_type": "code",
   "execution_count": null,
   "id": "01c0ddab-b422-4b49-8fac-2bb7a211150d",
   "metadata": {},
   "outputs": [],
   "source": []
  },
  {
   "cell_type": "code",
   "execution_count": null,
   "id": "6b056898-9ab8-4a5f-b13d-13e397f815e9",
   "metadata": {},
   "outputs": [],
   "source": []
  }
 ],
 "metadata": {
  "kernelspec": {
   "display_name": "Python 3 (ipykernel)",
   "language": "python",
   "name": "python3"
  },
  "language_info": {
   "codemirror_mode": {
    "name": "ipython",
    "version": 3
   },
   "file_extension": ".py",
   "mimetype": "text/x-python",
   "name": "python",
   "nbconvert_exporter": "python",
   "pygments_lexer": "ipython3",
   "version": "3.12.7"
  }
 },
 "nbformat": 4,
 "nbformat_minor": 5
}
