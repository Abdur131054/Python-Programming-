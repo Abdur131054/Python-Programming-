{
 "cells": [
  {
   "cell_type": "markdown",
   "id": "0bdff210-f6f7-4d44-bb2a-27de4c5f31d6",
   "metadata": {},
   "source": [
    "****Indentation****"
   ]
  },
  {
   "cell_type": "markdown",
   "id": "ddc8731d-f8ed-41ab-8998-84ffee5174b9",
   "metadata": {},
   "source": [
    "Unlike many other programming languages, Python does not use two common symbols to define a block of code:\n",
    "\n",
    "1. Curly braces {}\n",
    "\n",
    "2. Semicolons ;\n",
    "\n",
    "In most languages, curly braces are used to mark the beginning and end of a code block, while semicolons are used\n",
    "to separate individual statements. Python, however, has no need for either of these.\n",
    "\n",
    "Instead, Python is designed to be more readable, almost like English. When writing an if statement, you simply \n",
    "place a colon : at the end of the condition. After pressing Enter, the cursor automatically moves one tab forward, \n",
    "creating an indentation. This indentation represents the code block.\n",
    "The indentation in Python is very important.\n",
    "\n",
    "Python uses indentation to indicate a block of code.\n",
    "\n",
    "Indentation is applied automatically, but if it is missed, you can press the Tab key once to add it manually. \n",
    "After the if statement, you may write as many lines of code as needed within the block.\n",
    "To write an else statement, simply press Backspace to return to the same level of indentation as the if, and continue writing your code."
   ]
  },
  {
   "cell_type": "code",
   "execution_count": null,
   "id": "904063a9-0e49-41fa-89a9-1b9d49a91699",
   "metadata": {},
   "outputs": [],
   "source": [
    "# example in C \n",
    "\n",
    "include <stdio.h>\n",
    "\n",
    "int main() {\n",
    "    int x = 5;\n",
    "\n",
    "    if (x > 0) {\n",
    "        printf(\"Positive\\n\");   // semicolon ends the statement\n",
    "    } else {\n",
    "        printf(\"Non-positive\\n\");\n",
    "    }\n",
    "\n",
    "    return 0;  // semicolon is required at the end\n",
    "}"
   ]
  },
  {
   "cell_type": "code",
   "execution_count": 1,
   "id": "2345bda8-613d-4537-ad7c-c329fd7aa04a",
   "metadata": {},
   "outputs": [
    {
     "name": "stdout",
     "output_type": "stream",
     "text": [
      "Positive\n",
      "Number is greater than zero\n"
     ]
    }
   ],
   "source": [
    "# Example in Python\n",
    "x = 5\n",
    "\n",
    "if x > 0:\n",
    "    print(\"Positive\")     # first line inside if\n",
    "    print(\"Number is greater than zero\")   # second line inside if\n",
    "else:\n",
    "    print(\"Non-positive\") # first line inside else\n",
    "    print(\"Number is zero or negative\")    # second line inside else"
   ]
  },
  {
   "cell_type": "markdown",
   "id": "669a0cb4-6c4d-423c-960f-3a423003298f",
   "metadata": {},
   "source": [
    "In Python, there is no concept of using brackets to define a block of code. Indentation is the only way to identify a block of code. From the indentation, it is clear which lines belong to a block—for example, the lines inside an if block or the lines inside an else block.\n",
    "\n",
    "If there is a mistake in the indentation, the code will not work correctly."
   ]
  },
  {
   "cell_type": "code",
   "execution_count": 2,
   "id": "f519a4b2-34e2-4413-942b-9fcd239a4a98",
   "metadata": {},
   "outputs": [
    {
     "ename": "IndentationError",
     "evalue": "expected an indented block after 'if' statement on line 4 (2695040206.py, line 5)",
     "output_type": "error",
     "traceback": [
      "\u001b[1;36m  Cell \u001b[1;32mIn[2], line 5\u001b[1;36m\u001b[0m\n\u001b[1;33m    print(\"Positive\")     # will give indentation error\u001b[0m\n\u001b[1;37m    ^\u001b[0m\n\u001b[1;31mIndentationError\u001b[0m\u001b[1;31m:\u001b[0m expected an indented block after 'if' statement on line 4\n"
     ]
    }
   ],
   "source": [
    "\n",
    "# This code will give an error\n",
    "x = 5\n",
    "\n",
    "if x > 0:\n",
    "print(\"Positive\")     # will give indentation error\n",
    "    print(\"Number is greater than zero\")   # second line inside if\n",
    "else:\n",
    "    print(\"Non-positive\") # first line inside else\n",
    "    print(\"Number is zero or negative\")    # second line inside else"
   ]
  },
  {
   "cell_type": "markdown",
   "id": "c5e49aff-388c-4351-8acc-5a75d7c80b16",
   "metadata": {},
   "source": [
    "if we give extra tab then it will also give an error"
   ]
  },
  {
   "cell_type": "code",
   "execution_count": 3,
   "id": "2f1bc71f-c29f-4e03-b397-0bf48d84f39d",
   "metadata": {},
   "outputs": [
    {
     "ename": "IndentationError",
     "evalue": "unexpected indent (2205198989.py, line 6)",
     "output_type": "error",
     "traceback": [
      "\u001b[1;36m  Cell \u001b[1;32mIn[3], line 6\u001b[1;36m\u001b[0m\n\u001b[1;33m    print(\"Number is greater than zero\")   # second line inside if(Double Tab will give an error)\u001b[0m\n\u001b[1;37m    ^\u001b[0m\n\u001b[1;31mIndentationError\u001b[0m\u001b[1;31m:\u001b[0m unexpected indent\n"
     ]
    }
   ],
   "source": [
    "# This code will give an error\n",
    "x = 5\n",
    "\n",
    "if x > 0:\n",
    "    print(\"Positive\")     # will give indentation error\n",
    "        print(\"Number is greater than zero\")   # second line inside if(Double Tab will give an error)\n",
    "else:\n",
    "    print(\"Non-positive\") # first line inside else\n",
    "    print(\"Number is zero or negative\")    # second line inside else"
   ]
  },
  {
   "cell_type": "markdown",
   "id": "18b0aacd-08f1-4f07-8b7d-9dc575fa7502",
   "metadata": {},
   "source": [
    "Indentation increases code readability"
   ]
  },
  {
   "cell_type": "markdown",
   "id": "5eab658e-55db-46f2-9ea5-887445356033",
   "metadata": {},
   "source": [
    "Inside an if block, there can be another layer, which we call a nested if-else. \n",
    "In that case, we need to use one more level of indentation (one more tab)."
   ]
  },
  {
   "cell_type": "code",
   "execution_count": 1,
   "id": "005c0b12-520b-4080-a622-754d170b1c28",
   "metadata": {},
   "outputs": [
    {
     "name": "stdout",
     "output_type": "stream",
     "text": [
      "Positive\n",
      "Number is greater than zero\n",
      "It is odd\n"
     ]
    }
   ],
   "source": [
    "x = 5\n",
    "\n",
    "if x > 0:\n",
    "    print(\"Positive\")     \n",
    "    print(\"Number is greater than zero\")   \n",
    "    \n",
    "    # Nested if inside main if\n",
    "    if x % 2 == 0:\n",
    "        print(\"It is even\")\n",
    "    else:\n",
    "        print(\"It is odd\")\n",
    "else:\n",
    "    print(\"Non-positive\") \n",
    "    print(\"Number is zero or negative\")"
   ]
  },
  {
   "cell_type": "code",
   "execution_count": null,
   "id": "3fbc6cfb-aef9-4fe6-90af-6455d1dbc58f",
   "metadata": {},
   "outputs": [],
   "source": []
  },
  {
   "cell_type": "code",
   "execution_count": null,
   "id": "5e919125-e54a-4020-8fea-17be03ba0b47",
   "metadata": {},
   "outputs": [],
   "source": []
  }
 ],
 "metadata": {
  "kernelspec": {
   "display_name": "Python 3 (ipykernel)",
   "language": "python",
   "name": "python3"
  },
  "language_info": {
   "codemirror_mode": {
    "name": "ipython",
    "version": 3
   },
   "file_extension": ".py",
   "mimetype": "text/x-python",
   "name": "python",
   "nbconvert_exporter": "python",
   "pygments_lexer": "ipython3",
   "version": "3.12.7"
  }
 },
 "nbformat": 4,
 "nbformat_minor": 5
}
