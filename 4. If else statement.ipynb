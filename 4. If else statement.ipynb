{
 "cells": [
  {
   "cell_type": "markdown",
   "id": "49a14dfc-0605-4427-8cb8-b9dfa7204458",
   "metadata": {},
   "source": [
    "****If - Else Statement/Decission control statment****"
   ]
  },
  {
   "cell_type": "markdown",
   "id": "f7485328-3d9b-4f5f-b4df-9603d1b183b7",
   "metadata": {},
   "source": [
    "- Programming is executed line by line (sequential execution).\n",
    "\n",
    "- But sometimes, the logic of a program needs to make a decision — for example, whether a condition is true or false.\n",
    "\n",
    "- At that point, the program may take different directions. This is called branching.\n",
    "\n",
    "- To implement branching, we use if-else statements."
   ]
  },
  {
   "cell_type": "markdown",
   "id": "cf0c5ad1-4c7f-438a-bdf0-18d76b1e135c",
   "metadata": {},
   "source": [
    "***If Statment***"
   ]
  },
  {
   "cell_type": "code",
   "execution_count": 15,
   "id": "8a088afb-16e5-4d9f-990f-36608b0f4937",
   "metadata": {},
   "outputs": [],
   "source": [
    "a=20\n",
    "b=30\n",
    "if a==b:\n",
    "    print(\"a equals b\")"
   ]
  },
  {
   "cell_type": "code",
   "execution_count": 16,
   "id": "f1936ff9-b89f-44b6-804d-7305b3be8807",
   "metadata": {},
   "outputs": [
    {
     "name": "stdout",
     "output_type": "stream",
     "text": [
      "a is less then b\n"
     ]
    }
   ],
   "source": [
    "a=20\n",
    "b=30\n",
    "if a<b:\n",
    "    print(\"a is less then b\")"
   ]
  },
  {
   "cell_type": "markdown",
   "id": "6927fe81-7fc1-49ee-b1ec-f16bc46f5469",
   "metadata": {},
   "source": [
    "***elif*** "
   ]
  },
  {
   "cell_type": "markdown",
   "id": "6af2b2f9-6f6d-4401-91a7-21e07fa2b274",
   "metadata": {},
   "source": [
    "The elif keyword is Python's way of saying \"if the previous conditions were not true, then try this condition"
   ]
  },
  {
   "cell_type": "code",
   "execution_count": 17,
   "id": "b9cf711b-361f-4fb5-9844-d44fb1c92fe3",
   "metadata": {},
   "outputs": [
    {
     "name": "stdout",
     "output_type": "stream",
     "text": [
      "a is less then b\n"
     ]
    }
   ],
   "source": [
    "a=20\n",
    "b=30\n",
    "if a>b:\n",
    "    print(\"a is greater then b\")\n",
    "elif a<b:\n",
    "    print(\"a is less then b\")"
   ]
  },
  {
   "cell_type": "markdown",
   "id": "2ddc4250-5032-49f1-aafa-1b5f920c3d03",
   "metadata": {},
   "source": [
    "***else***"
   ]
  },
  {
   "cell_type": "markdown",
   "id": "092761d2-36fa-4ee7-ae0d-f9a6eccae702",
   "metadata": {},
   "source": [
    "The else keyword catches anything which isn't caught by the preceding conditions."
   ]
  },
  {
   "cell_type": "code",
   "execution_count": 18,
   "id": "24f08bb6-7973-49de-a091-7e05b8ecb43a",
   "metadata": {},
   "outputs": [
    {
     "name": "stdout",
     "output_type": "stream",
     "text": [
      "a equals b\n"
     ]
    }
   ],
   "source": [
    "a=20\n",
    "b=20\n",
    "if a>b:\n",
    "    print(\"a is greater then b\")\n",
    "elif a<b:\n",
    "    print(\"a is less then b\")\n",
    "else:\n",
    "    print(\"a equals b\")"
   ]
  },
  {
   "cell_type": "markdown",
   "id": "dc469cbd-685e-4196-891a-7700c7cd049c",
   "metadata": {},
   "source": [
    "we can also have multiple else statements on the same line:"
   ]
  },
  {
   "cell_type": "code",
   "execution_count": 20,
   "id": "9984fd16-f51a-4cce-add6-78b345ca4069",
   "metadata": {},
   "outputs": [
    {
     "name": "stdout",
     "output_type": "stream",
     "text": [
      "A\n"
     ]
    }
   ],
   "source": [
    "a=300\n",
    "b=300\n",
    "print(\"A\") if a==b else print(\">\") if a>b else print(\"<\")"
   ]
  },
  {
   "cell_type": "markdown",
   "id": "1905bc28-3886-463a-a2a9-18bb56b6c188",
   "metadata": {},
   "source": [
    "***AND***"
   ]
  },
  {
   "cell_type": "code",
   "execution_count": 21,
   "id": "0b853387-7c95-41a1-8c60-ae18507b3c43",
   "metadata": {},
   "outputs": [
    {
     "name": "stdout",
     "output_type": "stream",
     "text": [
      "Both conditions are true\n"
     ]
    }
   ],
   "source": [
    "a=20\n",
    "b=30\n",
    "c=20\n",
    "if a==c and b>a:\n",
    "    print(\"Both conditions are true\")"
   ]
  },
  {
   "cell_type": "markdown",
   "id": "de63e15f-5b8b-497b-a5d0-d5d4fd9774ac",
   "metadata": {},
   "source": [
    "***OR***"
   ]
  },
  {
   "cell_type": "code",
   "execution_count": 23,
   "id": "f28b2a7b-3eb7-4d78-9c01-8b9f05266dc7",
   "metadata": {},
   "outputs": [
    {
     "name": "stdout",
     "output_type": "stream",
     "text": [
      "At least one condition is true\n"
     ]
    }
   ],
   "source": [
    "a=30\n",
    "b=20\n",
    "c=23\n",
    "if a>b or b==c:\n",
    "    print(\"At least one condition is true\")"
   ]
  },
  {
   "cell_type": "markdown",
   "id": "7fa68209-f89b-4113-baef-a5129adb530a",
   "metadata": {},
   "source": [
    "***NOT***"
   ]
  },
  {
   "cell_type": "code",
   "execution_count": 25,
   "id": "5a1f2f74-4f64-4058-a677-89f58f7cafa8",
   "metadata": {},
   "outputs": [
    {
     "name": "stdout",
     "output_type": "stream",
     "text": [
      "a is not equals to b\n"
     ]
    }
   ],
   "source": [
    "a=20\n",
    "b=30\n",
    "if not a==b:\n",
    "    print(\"a is not equals to b\")"
   ]
  },
  {
   "cell_type": "code",
   "execution_count": 26,
   "id": "f57de70e-8ed4-4954-9b92-eeb17a0f63b0",
   "metadata": {},
   "outputs": [
    {
     "name": "stdout",
     "output_type": "stream",
     "text": [
      "a is not equals to b\n"
     ]
    }
   ],
   "source": [
    "a=20\n",
    "b=21\n",
    "if a!=b:\n",
    "    print(\"a is not equals to b\")"
   ]
  },
  {
   "cell_type": "markdown",
   "id": "b5568282-7d7d-4a26-9edf-659e08c36fa4",
   "metadata": {},
   "source": [
    "***pass***\n",
    "if statements cannot be empty, but if you for some reason have an if statement with no content, put in the pass statement to avoid getting an error."
   ]
  },
  {
   "cell_type": "code",
   "execution_count": null,
   "id": "01de2fe8-2fd9-4a32-a17e-c5e6db4f14c4",
   "metadata": {},
   "outputs": [],
   "source": [
    "a=20\n",
    "b=30\n",
    "if b>a:\n",
    "p"
   ]
  },
  {
   "cell_type": "code",
   "execution_count": null,
   "id": "bfcd792a-366b-4450-bc8f-048d954ec14d",
   "metadata": {},
   "outputs": [],
   "source": []
  },
  {
   "cell_type": "code",
   "execution_count": 9,
   "id": "951ec4ac-247e-41ca-aeff-6556ef434a7c",
   "metadata": {},
   "outputs": [
    {
     "name": "stdin",
     "output_type": "stream",
     "text": [
      "Write your email:  abcd\n",
      "Write your password:  abcd\n"
     ]
    },
    {
     "name": "stdout",
     "output_type": "stream",
     "text": [
      "Incorrect credentials\n"
     ]
    }
   ],
   "source": [
    "\n",
    "#correct email= abcd@gmail.com\n",
    "#correct password= 1234\n",
    "email = input(\"Write your email: \")\n",
    "password = input(\"Write your password: \")\n",
    "\n",
    "if email == \"abcd@gmail.com\" and password == \"1234\":\n",
    "    print(\"Welcome\")\n",
    "else:\n",
    "    print(\"Incorrect credentials\")\n"
   ]
  },
  {
   "cell_type": "code",
   "execution_count": 10,
   "id": "f76ccc4d-7834-42aa-9566-2f2346413da9",
   "metadata": {},
   "outputs": [
    {
     "name": "stdin",
     "output_type": "stream",
     "text": [
      "Write your email:  abcd@gmail.com\n",
      "Write your password:  1234\n"
     ]
    },
    {
     "name": "stdout",
     "output_type": "stream",
     "text": [
      "Welcome\n"
     ]
    }
   ],
   "source": [
    "email = input(\"Write your email: \")\n",
    "password = input(\"Write your password: \")\n",
    "\n",
    "if email == \"abcd@gmail.com\" and password == \"1234\":\n",
    "    print(\"Welcome\")\n",
    "else:\n",
    "    print(\"Incorrect credentials\")"
   ]
  },
  {
   "cell_type": "code",
   "execution_count": 11,
   "id": "45f5bc4b-9d87-4a3a-b33b-44c2a8bfed26",
   "metadata": {},
   "outputs": [
    {
     "name": "stdin",
     "output_type": "stream",
     "text": [
      "Write your email:  abcd@gmail.com\n",
      "Write your password:  123\n"
     ]
    },
    {
     "name": "stdout",
     "output_type": "stream",
     "text": [
      "Password incorrect\n"
     ]
    },
    {
     "name": "stdin",
     "output_type": "stream",
     "text": [
      "write your password again:  123\n"
     ]
    },
    {
     "name": "stdout",
     "output_type": "stream",
     "text": [
      "still incorrect\n"
     ]
    }
   ],
   "source": [
    "#if user inputs right email but wrong password then we will give him another chance to give password again\n",
    "email = input(\"Write your email: \")\n",
    "password = input(\"Write your password: \")\n",
    "\n",
    "if email == \"abcd@gmail.com\" and password == \"1234\":\n",
    "    print(\"Welcome\")\n",
    "elif email == \"abcd@gmail.com\" and password !=\"1234\":\n",
    "    print(\"Password incorrect\")\n",
    "    password = input(\"write your password again: \")\n",
    "    if password == \"1234\":\n",
    "        print(\"Finally correct password provided\")\n",
    "    else:\n",
    "        print(\"still incorrect\")\n",
    "\n",
    "else:\n",
    "    print(\"Incorrect credentials\")\n"
   ]
  },
  {
   "cell_type": "code",
   "execution_count": 12,
   "id": "7f09c82a-57ff-417c-bc8b-2fb0c8bf3ad0",
   "metadata": {},
   "outputs": [
    {
     "name": "stdin",
     "output_type": "stream",
     "text": [
      "Write your email:  abcd@gmail.com\n",
      "Write your password:  123\n"
     ]
    },
    {
     "name": "stdout",
     "output_type": "stream",
     "text": [
      "Password incorrect\n"
     ]
    },
    {
     "name": "stdin",
     "output_type": "stream",
     "text": [
      "write your password again:  1234\n"
     ]
    },
    {
     "name": "stdout",
     "output_type": "stream",
     "text": [
      "Finally correct password provided\n"
     ]
    }
   ],
   "source": [
    "email = input(\"Write your email: \")\n",
    "password = input(\"Write your password: \")\n",
    "\n",
    "if email == \"abcd@gmail.com\" and password == \"1234\":\n",
    "    print(\"Welcome\")\n",
    "elif email == \"abcd@gmail.com\" and password !=\"1234\":\n",
    "    print(\"Password incorrect\")\n",
    "    password = input(\"write your password again: \")\n",
    "    if password == \"1234\":\n",
    "        print(\"Finally correct password provided\")\n",
    "    else:\n",
    "        print(\"still incorrect\")\n",
    "\n",
    "else:\n",
    "    print(\"Incorrect credentials\")"
   ]
  },
  {
   "cell_type": "code",
   "execution_count": 14,
   "id": "9a849015-af53-4528-9c4c-028459273bc7",
   "metadata": {},
   "outputs": [
    {
     "name": "stdin",
     "output_type": "stream",
     "text": [
      "Write your email:  abcdgmail.com\n"
     ]
    },
    {
     "name": "stdout",
     "output_type": "stream",
     "text": [
      "Wrong email provided\n"
     ]
    }
   ],
   "source": [
    "\n",
    "#if email provided without \"@\"\n",
    "email = input(\"Write your email: \")\n",
    "if \"@\" in email:\n",
    "    password = input(\"Write your password: \")\n",
    "    \n",
    "    if email == \"abcd@gmail.com\" and password == \"1234\":\n",
    "        print(\"Welcome\")\n",
    "    elif email == \"abcd@gmail.com\" and password !=\"1234\":\n",
    "        print(\"Password incorrect\")\n",
    "        password = input(\"write your password again: \")\n",
    "        if password == \"1234\":\n",
    "            print(\"Finally correct password provided\")\n",
    "        else:\n",
    "            print(\"still incorrect\")\n",
    "    \n",
    "    else:\n",
    "        print(\"Incorrect credentials\")\n",
    "else:\n",
    "    print(\"Wrong email provided\")"
   ]
  },
  {
   "cell_type": "code",
   "execution_count": null,
   "id": "14d4ebce-b392-489c-a6bc-6c162ed90b95",
   "metadata": {},
   "outputs": [],
   "source": []
  },
  {
   "cell_type": "code",
   "execution_count": null,
   "id": "a315e9ef-e614-4beb-950f-e6a23b7cb92f",
   "metadata": {},
   "outputs": [],
   "source": []
  },
  {
   "cell_type": "code",
   "execution_count": null,
   "id": "54e47d76-9fe0-4574-9428-5521fc719662",
   "metadata": {},
   "outputs": [],
   "source": []
  },
  {
   "cell_type": "code",
   "execution_count": null,
   "id": "d2d2f466-fbb5-45f4-94b3-d2e399bf774d",
   "metadata": {},
   "outputs": [],
   "source": []
  },
  {
   "cell_type": "code",
   "execution_count": null,
   "id": "0091212e-d4c0-41c4-b5b1-9e1c88499290",
   "metadata": {},
   "outputs": [],
   "source": []
  },
  {
   "cell_type": "code",
   "execution_count": null,
   "id": "e822b54e-87bb-4945-83cb-3e3965d982be",
   "metadata": {},
   "outputs": [],
   "source": []
  }
 ],
 "metadata": {
  "kernelspec": {
   "display_name": "Python 3 (ipykernel)",
   "language": "python",
   "name": "python3"
  },
  "language_info": {
   "codemirror_mode": {
    "name": "ipython",
    "version": 3
   },
   "file_extension": ".py",
   "mimetype": "text/x-python",
   "name": "python",
   "nbconvert_exporter": "python",
   "pygments_lexer": "ipython3",
   "version": "3.12.7"
  }
 },
 "nbformat": 4,
 "nbformat_minor": 5
}
