{
 "cells": [
  {
   "cell_type": "markdown",
   "id": "82e6ebbc-ffe7-4e57-8e3a-5f2ca78cf637",
   "metadata": {},
   "source": [
    "# TAKING USER INPUt"
   ]
  },
  {
   "cell_type": "code",
   "execution_count": 1,
   "id": "8c5c74d5-9714-41ff-b03e-5e9371e2a580",
   "metadata": {},
   "outputs": [
    {
     "name": "stdin",
     "output_type": "stream",
     "text": [
      " 78\n"
     ]
    },
    {
     "data": {
      "text/plain": [
       "'78'"
      ]
     },
     "execution_count": 1,
     "metadata": {},
     "output_type": "execute_result"
    }
   ],
   "source": [
    "input()"
   ]
  },
  {
   "cell_type": "code",
   "execution_count": 1,
   "id": "654e37c8-095b-4c0f-9875-feead7a51143",
   "metadata": {},
   "outputs": [
    {
     "name": "stdin",
     "output_type": "stream",
     "text": [
      " 88\n"
     ]
    },
    {
     "data": {
      "text/plain": [
       "'88'"
      ]
     },
     "execution_count": 1,
     "metadata": {},
     "output_type": "execute_result"
    }
   ],
   "source": [
    "input()"
   ]
  },
  {
   "cell_type": "code",
   "execution_count": 2,
   "id": "96218a0f-6912-4e78-b863-f2f3559e7936",
   "metadata": {},
   "outputs": [
    {
     "name": "stdin",
     "output_type": "stream",
     "text": [
      "Tell your Name Abdur\n"
     ]
    },
    {
     "data": {
      "text/plain": [
       "'Abdur'"
      ]
     },
     "execution_count": 2,
     "metadata": {},
     "output_type": "execute_result"
    }
   ],
   "source": [
    "input (\"Tell your Name\")"
   ]
  },
  {
   "cell_type": "code",
   "execution_count": 3,
   "id": "9689bcbd-117f-4b66-a867-153a0544a94c",
   "metadata": {},
   "outputs": [
    {
     "name": "stdin",
     "output_type": "stream",
     "text": [
      "Enter the first number 77\n"
     ]
    }
   ],
   "source": [
    "first_num=input(\"Enter the first number\")"
   ]
  },
  {
   "cell_type": "code",
   "execution_count": 4,
   "id": "c0df1d23-af85-42db-b694-20074c475584",
   "metadata": {},
   "outputs": [
    {
     "name": "stdin",
     "output_type": "stream",
     "text": [
      "Enter the second number 88\n"
     ]
    }
   ],
   "source": [
    "second_num=input(\"Enter the second number\")"
   ]
  },
  {
   "cell_type": "code",
   "execution_count": 5,
   "id": "37ccbe69-bf87-42a5-9ea5-0bab44a4218d",
   "metadata": {},
   "outputs": [],
   "source": [
    "result= first_num+second_num"
   ]
  },
  {
   "cell_type": "code",
   "execution_count": 7,
   "id": "5defa508-ce79-4eb0-943e-98929652f9cc",
   "metadata": {},
   "outputs": [
    {
     "name": "stdout",
     "output_type": "stream",
     "text": [
      "7788\n"
     ]
    }
   ],
   "source": [
    "print(result) #here we wanted to sum two numbers but rather then adding two number it concateneted two numbers"
   ]
  },
  {
   "cell_type": "markdown",
   "id": "f40c493d-2de2-41c6-9b73-475524793f1e",
   "metadata": {},
   "source": [
    "In Python, the `input()` function **always returns a string**, regardless of what the user types.\n",
    "\n",
    "- If the user enters a **name** (`John`), it’s naturally a string.\n",
    "- If the user enters a **number** (`25`), Python still treats it as a string (`\"25\"`).\n",
    "\n",
    "This makes **string a universal format**, because:  \n",
    "✅ **You can input anything as a string** (e.g., name, number, symbols).  \n",
    "✅ **You can convert a string into other types** (e.g., `int(\"25\")` → `25`, `float(\"3.14\")` → `3.14`).  \n",
    "❌ **You cannot directly input a name as an integer** (e.g., `int(\"John\")` will cause an error).\n"
   ]
  },
  {
   "cell_type": "code",
   "execution_count": 9,
   "id": "ebee67b5-3681-49fb-8dfb-c6f34c8cd4f4",
   "metadata": {},
   "outputs": [
    {
     "data": {
      "text/plain": [
       "str"
      ]
     },
     "execution_count": 9,
     "metadata": {},
     "output_type": "execute_result"
    }
   ],
   "source": [
    "type(first_num)"
   ]
  },
  {
   "cell_type": "code",
   "execution_count": 10,
   "id": "2d2e6dbf-c79d-4255-800f-9db82a3053e6",
   "metadata": {},
   "outputs": [
    {
     "data": {
      "text/plain": [
       "int"
      ]
     },
     "execution_count": 10,
     "metadata": {},
     "output_type": "execute_result"
    }
   ],
   "source": [
    "type(4)"
   ]
  },
  {
   "cell_type": "code",
   "execution_count": 11,
   "id": "5fb7d013-a20e-44a8-9243-4011b0508b7c",
   "metadata": {},
   "outputs": [
    {
     "data": {
      "text/plain": [
       "str"
      ]
     },
     "execution_count": 11,
     "metadata": {},
     "output_type": "execute_result"
    }
   ],
   "source": [
    "type('4')"
   ]
  },
  {
   "cell_type": "code",
   "execution_count": 12,
   "id": "503a2e05-206c-49ba-af38-6efac22ba3aa",
   "metadata": {},
   "outputs": [
    {
     "data": {
      "text/plain": [
       "bool"
      ]
     },
     "execution_count": 12,
     "metadata": {},
     "output_type": "execute_result"
    }
   ],
   "source": [
    "type(False)"
   ]
  },
  {
   "cell_type": "markdown",
   "id": "47cdf433-c6a1-4346-b370-52e380abe9ae",
   "metadata": {},
   "source": [
    "### So What is the solution of above problem ? Type conversion. If we convert user input type from string to integer then we can sum those two input"
   ]
  },
  {
   "cell_type": "markdown",
   "id": "7d662999-5219-4647-91ca-f9a1f3571a17",
   "metadata": {},
   "source": [
    "# Type Conversion "
   ]
  },
  {
   "cell_type": "markdown",
   "id": "436e761f-085b-49bc-bd77-239c14358ca1",
   "metadata": {},
   "source": [
    "Type conversion is a process where we can convert one data type to another data type. But obviously, there is a clause that the data type should be convertible. \n",
    "\n",
    "We **cannot** convert a string to an integer unless the string contains a valid integer. For example, `\"123\"` can be converted to `123`, but `\"Hello\"` cannot.\n",
    "\n",
    "**Conversion will happen only when it's possible.**\n",
    "\n"
   ]
  },
  {
   "cell_type": "markdown",
   "id": "df4249cd-410a-4d20-af5e-2bbbf757cf29",
   "metadata": {},
   "source": [
    "**There Have Two types of Type Conversion**\n",
    "- implicit\n",
    "- explicit"
   ]
  },
  {
   "cell_type": "markdown",
   "id": "b9d0a5ec-3ea0-412d-a71b-83d483749e00",
   "metadata": {},
   "source": [
    "#### Implicit Type Conversion"
   ]
  },
  {
   "cell_type": "code",
   "execution_count": 14,
   "id": "8bba3baa-44d0-4a66-af30-eb7a49b824dc",
   "metadata": {},
   "outputs": [
    {
     "data": {
      "text/plain": [
       "8.5"
      ]
     },
     "execution_count": 14,
     "metadata": {},
     "output_type": "execute_result"
    }
   ],
   "source": [
    "# implicit \n",
    "4+4.5"
   ]
  },
  {
   "cell_type": "markdown",
   "id": "23c2942e-beea-4871-bbbc-e854dd539478",
   "metadata": {},
   "source": [
    "What happened here? we added two dat type, integer and floating point number. and we didn't mentioned data type. python is intelligent \n",
    "enough , and implicitly add two data type "
   ]
  },
  {
   "cell_type": "code",
   "execution_count": 15,
   "id": "e07dd0e8-ac65-4d6c-96cd-e531fb2c7897",
   "metadata": {},
   "outputs": [
    {
     "data": {
      "text/plain": [
       "(11+7j)"
      ]
     },
     "execution_count": 15,
     "metadata": {},
     "output_type": "execute_result"
    }
   ],
   "source": [
    "5+6+7j"
   ]
  },
  {
   "cell_type": "code",
   "execution_count": 17,
   "id": "8bb32522-0db9-4a66-b500-92d0a2e8b6d4",
   "metadata": {},
   "outputs": [
    {
     "data": {
      "text/plain": [
       "(8.5+5j)"
      ]
     },
     "execution_count": 17,
     "metadata": {},
     "output_type": "execute_result"
    }
   ],
   "source": [
    "4+4.5+5j"
   ]
  },
  {
   "cell_type": "markdown",
   "id": "1e325382-d7d6-4ab6-9927-77f74c469ef4",
   "metadata": {},
   "source": [
    "#### Explicit Type Conversion"
   ]
  },
  {
   "cell_type": "code",
   "execution_count": 18,
   "id": "b645b51d-ac41-41c7-866f-b02afaaef264",
   "metadata": {},
   "outputs": [
    {
     "data": {
      "text/plain": [
       "4"
      ]
     },
     "execution_count": 18,
     "metadata": {},
     "output_type": "execute_result"
    }
   ],
   "source": [
    "#int\n",
    "int(4.5)"
   ]
  },
  {
   "cell_type": "code",
   "execution_count": 19,
   "id": "9704cf56-82ac-47c6-8aa7-9ef50bce462d",
   "metadata": {},
   "outputs": [
    {
     "data": {
      "text/plain": [
       "4"
      ]
     },
     "execution_count": 19,
     "metadata": {},
     "output_type": "execute_result"
    }
   ],
   "source": [
    "int(4.6)"
   ]
  },
  {
   "cell_type": "code",
   "execution_count": 20,
   "id": "945662e7-8c89-4f93-9044-8d36990f8703",
   "metadata": {},
   "outputs": [
    {
     "data": {
      "text/plain": [
       "4"
      ]
     },
     "execution_count": 20,
     "metadata": {},
     "output_type": "execute_result"
    }
   ],
   "source": [
    "int(4.9)"
   ]
  },
  {
   "cell_type": "code",
   "execution_count": 22,
   "id": "983d1feb-d8e1-43fd-b426-6c68e667aa0e",
   "metadata": {},
   "outputs": [
    {
     "data": {
      "text/plain": [
       "45"
      ]
     },
     "execution_count": 22,
     "metadata": {},
     "output_type": "execute_result"
    }
   ],
   "source": [
    "int('45') #here give 45 as string and it coverted to integer as its possible to take 45 as integer"
   ]
  },
  {
   "cell_type": "code",
   "execution_count": 23,
   "id": "df20edf7-58e8-4992-b224-5c6e81dfeae5",
   "metadata": {},
   "outputs": [
    {
     "data": {
      "text/plain": [
       "4.0"
      ]
     },
     "execution_count": 23,
     "metadata": {},
     "output_type": "execute_result"
    }
   ],
   "source": [
    "# float\n",
    "float(4)"
   ]
  },
  {
   "cell_type": "code",
   "execution_count": 24,
   "id": "844f7115-d8c5-46d0-86f5-2706c8dbfe42",
   "metadata": {},
   "outputs": [
    {
     "data": {
      "text/plain": [
       "'5'"
      ]
     },
     "execution_count": 24,
     "metadata": {},
     "output_type": "execute_result"
    }
   ],
   "source": [
    "#str\n",
    "str(5)"
   ]
  },
  {
   "cell_type": "code",
   "execution_count": 25,
   "id": "aa30ac63-7e5c-4327-8e34-111b6437df42",
   "metadata": {},
   "outputs": [
    {
     "data": {
      "text/plain": [
       "(4+0j)"
      ]
     },
     "execution_count": 25,
     "metadata": {},
     "output_type": "execute_result"
    }
   ],
   "source": [
    "complex(4)"
   ]
  },
  {
   "cell_type": "code",
   "execution_count": 26,
   "id": "3f1fc0fd-49c8-4108-b0aa-928d90fc662d",
   "metadata": {},
   "outputs": [
    {
     "data": {
      "text/plain": [
       "['H', 'e', 'l', 'l', 'o']"
      ]
     },
     "execution_count": 26,
     "metadata": {},
     "output_type": "execute_result"
    }
   ],
   "source": [
    "list(\"Hello\")"
   ]
  },
  {
   "cell_type": "code",
   "execution_count": 28,
   "id": "6107c48e-d5d2-4fdb-800c-d3c977f9c5c3",
   "metadata": {},
   "outputs": [
    {
     "ename": "ValueError",
     "evalue": "invalid literal for int() with base 10: 'Abdur'",
     "output_type": "error",
     "traceback": [
      "\u001b[1;31m---------------------------------------------------------------------------\u001b[0m",
      "\u001b[1;31mValueError\u001b[0m                                Traceback (most recent call last)",
      "Cell \u001b[1;32mIn[28], line 1\u001b[0m\n\u001b[1;32m----> 1\u001b[0m \u001b[38;5;28mint\u001b[39m(\u001b[38;5;124m\"\u001b[39m\u001b[38;5;124mAbdur\u001b[39m\u001b[38;5;124m\"\u001b[39m)\n",
      "\u001b[1;31mValueError\u001b[0m: invalid literal for int() with base 10: 'Abdur'"
     ]
    }
   ],
   "source": [
    "int(\"Abdur\") # Abdur can not be a number , its not possible"
   ]
  },
  {
   "cell_type": "markdown",
   "id": "417a66ea-6eb0-4bc9-a4e3-d2ade78e21e3",
   "metadata": {},
   "source": [
    "Type conversion is not permanent operation in python . When i converted a type,it does not mean that we changed the original value"
   ]
  },
  {
   "cell_type": "code",
   "execution_count": 8,
   "id": "3a12a653-60f5-4493-884a-f031d4f2168f",
   "metadata": {},
   "outputs": [],
   "source": [
    "a=4.8"
   ]
  },
  {
   "cell_type": "code",
   "execution_count": 9,
   "id": "20e4e7ea-223c-4208-bc77-820493f1b7a3",
   "metadata": {},
   "outputs": [
    {
     "data": {
      "text/plain": [
       "4"
      ]
     },
     "execution_count": 9,
     "metadata": {},
     "output_type": "execute_result"
    }
   ],
   "source": [
    "int(a)"
   ]
  },
  {
   "cell_type": "code",
   "execution_count": 10,
   "id": "ef96f099-98f7-4857-b2a5-7bb1172d6fd3",
   "metadata": {},
   "outputs": [
    {
     "data": {
      "text/plain": [
       "4.8"
      ]
     },
     "execution_count": 10,
     "metadata": {},
     "output_type": "execute_result"
    }
   ],
   "source": [
    "a"
   ]
  },
  {
   "cell_type": "code",
   "execution_count": 11,
   "id": "c60781d6-f1ad-4dcc-b47f-2fef3dc93cf3",
   "metadata": {},
   "outputs": [
    {
     "name": "stdin",
     "output_type": "stream",
     "text": [
      "Enter the first number 77\n",
      "Enter the second number 88\n"
     ]
    }
   ],
   "source": [
    "first_num=input(\"Enter the first number\")\n",
    "second_num=input(\"Enter the second number\")\n",
    "result= first_num+second_num\n"
   ]
  },
  {
   "cell_type": "code",
   "execution_count": 12,
   "id": "1bbce571-f3e3-4c92-9a56-20736e67bea6",
   "metadata": {},
   "outputs": [
    {
     "data": {
      "text/plain": [
       "'7788'"
      ]
     },
     "execution_count": 12,
     "metadata": {},
     "output_type": "execute_result"
    }
   ],
   "source": [
    "result"
   ]
  },
  {
   "cell_type": "code",
   "execution_count": 13,
   "id": "d0feea9e-8d28-4e6b-82d2-21c9d95e44b6",
   "metadata": {},
   "outputs": [],
   "source": [
    "result= int(first_num)+int(second_num)"
   ]
  },
  {
   "cell_type": "code",
   "execution_count": 14,
   "id": "4e24834e-8a87-498f-95f3-7336ef72237e",
   "metadata": {},
   "outputs": [
    {
     "data": {
      "text/plain": [
       "165"
      ]
     },
     "execution_count": 14,
     "metadata": {},
     "output_type": "execute_result"
    }
   ],
   "source": [
    "result"
   ]
  },
  {
   "cell_type": "code",
   "execution_count": 16,
   "id": "2b79c232-8d2c-40ca-b2f0-2698c6b44c64",
   "metadata": {
    "scrolled": true
   },
   "outputs": [
    {
     "name": "stdin",
     "output_type": "stream",
     "text": [
      "Enter the first number 88\n",
      "Enter the second number 77\n"
     ]
    }
   ],
   "source": [
    "first_num=int(input(\"Enter the first number\"))\n",
    "second_num=int(input(\"Enter the second number\"))\n",
    "result=\n"
   ]
  },
  {
   "cell_type": "code",
   "execution_count": 18,
   "id": "c65efb86-1ae1-441a-a066-c9944aefa8e8",
   "metadata": {},
   "outputs": [],
   "source": [
    "result=first_num+second_num"
   ]
  },
  {
   "cell_type": "raw",
   "id": "1d20b221-72b0-4af6-a1af-7f3782caded4",
   "metadata": {},
   "source": [
    "print(result)"
   ]
  },
  {
   "cell_type": "code",
   "execution_count": null,
   "id": "dcc3e324-f9b7-4b37-911a-4ee2f1d092fb",
   "metadata": {},
   "outputs": [],
   "source": []
  }
 ],
 "metadata": {
  "kernelspec": {
   "display_name": "Python 3 (ipykernel)",
   "language": "python",
   "name": "python3"
  },
  "language_info": {
   "codemirror_mode": {
    "name": "ipython",
    "version": 3
   },
   "file_extension": ".py",
   "mimetype": "text/x-python",
   "name": "python",
   "nbconvert_exporter": "python",
   "pygments_lexer": "ipython3",
   "version": "3.12.7"
  }
 },
 "nbformat": 4,
 "nbformat_minor": 5
}
