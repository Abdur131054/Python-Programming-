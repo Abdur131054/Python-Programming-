{
 "cells": [
  {
   "cell_type": "markdown",
   "id": "94484654-7d16-46ee-8623-70c73f15fe82",
   "metadata": {},
   "source": [
    "****Literals****"
   ]
  },
  {
   "cell_type": "markdown",
   "id": "2ef8b29d-0cfe-4f36-bdd0-2dc6cb18f755",
   "metadata": {},
   "source": [
    "Litreral is a raw data given in a variable . in python there are various type of literals. And they are as follows\n"
   ]
  },
  {
   "cell_type": "markdown",
   "id": "bd9ecb79-34d8-4fdb-94e4-05f77764d85d",
   "metadata": {},
   "source": [
    "-  Numeric Literals\n",
    "-  String Literals\n",
    "-  Boolean Literals\n",
    "-  Special Literals\n"
   ]
  },
  {
   "cell_type": "markdown",
   "id": "2bd59eb2-3ec0-4d59-b3df-174bf5c3624e",
   "metadata": {},
   "source": [
    "***1. Numeric Literals***"
   ]
  },
  {
   "cell_type": "code",
   "execution_count": 2,
   "id": "68e9b5b4-bbe6-4e27-b010-363ea66412e3",
   "metadata": {},
   "outputs": [
    {
     "name": "stdout",
     "output_type": "stream",
     "text": [
      "10 100 200 300\n",
      "100\n",
      "200\n",
      "300\n",
      "10.5\n",
      "1000.0\n",
      "0.1\n",
      "3.13j\n"
     ]
    }
   ],
   "source": [
    "a=0b1010 # Binary Literals\n",
    "b= 100  # Decimal Literals\n",
    "c=0o310 # Octal Literals\n",
    "d= 0x12c #Hexadecimal Literals\n",
    "\n",
    "#float literal\n",
    "float_1= 10.5\n",
    "float_2= 10e2\n",
    "float_3= 10e-2\n",
    "\n",
    "# complex literals\n",
    "\n",
    "x=3.13j\n",
    "\n",
    "print(a, b, c, d)\n",
    "print(b)\n",
    "print(c)\n",
    "print(d)\n",
    "\n",
    "print(float_1)\n",
    "print(float_2)\n",
    "print(float_3)\n",
    "print(x)"
   ]
  },
  {
   "cell_type": "markdown",
   "id": "30f254da-db9e-48c3-a0e3-231b2d435c46",
   "metadata": {},
   "source": [
    "***2.String Literals***"
   ]
  },
  {
   "cell_type": "code",
   "execution_count": 8,
   "id": "670d65a5-695d-40ac-ae0f-5e174e9abf67",
   "metadata": {},
   "outputs": [
    {
     "name": "stdout",
     "output_type": "stream",
     "text": [
      "This is a python\n",
      "This is a python\n",
      "C\n",
      " This is a multiline string \n",
      "with more then \n",
      "one line\n",
      "raw \\n string\n",
      "😀😆🤣\n"
     ]
    }
   ],
   "source": [
    "string = 'This is a python'\n",
    "strings = \"This is a python\"\n",
    "char= \"C\"\n",
    "multi_line_string =\"\"\" This is a multiline string \n",
    "with more then \n",
    "one line\"\"\"\n",
    "\n",
    "new_str=r\"raw \\n string\"\n",
    "unicode = u\"\\U0001f600\\U0001F606\\U0001F923\"\n",
    "\n",
    "print (string)\n",
    "print(strings)\n",
    "print(char)\n",
    "print(multi_line_string)\n",
    "print(new_str)\n",
    "print(unicode)"
   ]
  },
  {
   "cell_type": "code",
   "execution_count": 6,
   "id": "3c7e7474-b9cd-44cd-9e0b-6f818961866e",
   "metadata": {},
   "outputs": [
    {
     "data": {
      "text/plain": [
       "str"
      ]
     },
     "execution_count": 6,
     "metadata": {},
     "output_type": "execute_result"
    }
   ],
   "source": [
    "type(char)"
   ]
  },
  {
   "cell_type": "markdown",
   "id": "149e127c-02b2-412f-8035-ee12cb75c3b0",
   "metadata": {},
   "source": [
    "***3. Boolean Literals*** "
   ]
  },
  {
   "cell_type": "code",
   "execution_count": 11,
   "id": "e249851d-b788-4f54-aa66-457abc31719f",
   "metadata": {},
   "outputs": [
    {
     "name": "stdout",
     "output_type": "stream",
     "text": [
      "a: 5\n",
      "b: 5\n"
     ]
    }
   ],
   "source": [
    "a=True + 4 # True= 1 \n",
    "b= False + 5 # False =0\n",
    "#implicit type conversion\n",
    "print(\"a:\",a)\n",
    "print(\"b:\",b)"
   ]
  },
  {
   "cell_type": "markdown",
   "id": "34c00e9c-6dbc-446f-ab02-cd0fdfa90ee1",
   "metadata": {},
   "source": [
    "***4. Special Literals***"
   ]
  },
  {
   "cell_type": "code",
   "execution_count": 14,
   "id": "86306a83-5a08-4fe5-9cc2-0c661be68d8e",
   "metadata": {},
   "outputs": [
    {
     "name": "stdout",
     "output_type": "stream",
     "text": [
      "None\n"
     ]
    }
   ],
   "source": [
    "a= None\n",
    "print(a)"
   ]
  },
  {
   "cell_type": "code",
   "execution_count": 15,
   "id": "72d1d3e8-9b94-4269-9070-e187d63d7b41",
   "metadata": {},
   "outputs": [],
   "source": [
    "a"
   ]
  },
  {
   "cell_type": "markdown",
   "id": "1f2b8314-d014-4787-91c9-64ba39bbccc9",
   "metadata": {},
   "source": [
    "variable declaration\n"
   ]
  },
  {
   "cell_type": "code",
   "execution_count": 16,
   "id": "533538e7-897e-433f-90c6-c9567031603f",
   "metadata": {},
   "outputs": [
    {
     "name": "stdout",
     "output_type": "stream",
     "text": [
      "None\n"
     ]
    }
   ],
   "source": [
    "k=None\n",
    "print (k)"
   ]
  },
  {
   "cell_type": "markdown",
   "id": "84dc251b-3b7c-4488-a44e-a9631c13f155",
   "metadata": {},
   "source": [
    "***Operators in Python***\n",
    "- Arithmetic: +, -, *, /, %, **, //\n",
    "- Comparison: ==, !=, >, <, >=, <=\n",
    "- Logical: and, or, not\n",
    "- Bitwise: &, |, ^, ~, <<, >>\n",
    "- Assignment: =, +=, -=, *=, /=, %=, **=, //=\n",
    "- Identity: is, is not\n",
    "- Membership: in, not in"
   ]
  },
  {
   "cell_type": "markdown",
   "id": "4a3f7723-0776-4082-ba3c-70084382ef06",
   "metadata": {},
   "source": [
    "**Arithmetic operator**"
   ]
  },
  {
   "cell_type": "code",
   "execution_count": 18,
   "id": "4ffbcbd0-5913-4bc9-8b6c-9e2913525469",
   "metadata": {},
   "outputs": [
    {
     "data": {
      "text/plain": [
       "8"
      ]
     },
     "execution_count": 18,
     "metadata": {},
     "output_type": "execute_result"
    }
   ],
   "source": [
    "x=2\n",
    "y=6\n",
    "x+y"
   ]
  },
  {
   "cell_type": "code",
   "execution_count": 20,
   "id": "e4312e48-ad0d-4daf-9490-2ec6a08694bf",
   "metadata": {},
   "outputs": [
    {
     "data": {
      "text/plain": [
       "4"
      ]
     },
     "execution_count": 20,
     "metadata": {},
     "output_type": "execute_result"
    }
   ],
   "source": [
    "y-x"
   ]
  },
  {
   "cell_type": "code",
   "execution_count": 22,
   "id": "c0de5319-8601-4fd1-b7b1-8d67644d0209",
   "metadata": {},
   "outputs": [
    {
     "data": {
      "text/plain": [
       "3.0"
      ]
     },
     "execution_count": 22,
     "metadata": {},
     "output_type": "execute_result"
    }
   ],
   "source": [
    "y/x"
   ]
  },
  {
   "cell_type": "code",
   "execution_count": 23,
   "id": "6fbe450e-89cd-4162-8181-a6ce3e0d7d52",
   "metadata": {},
   "outputs": [
    {
     "data": {
      "text/plain": [
       "0"
      ]
     },
     "execution_count": 23,
     "metadata": {},
     "output_type": "execute_result"
    }
   ],
   "source": [
    "y%x"
   ]
  },
  {
   "cell_type": "code",
   "execution_count": 24,
   "id": "aab6799f-2493-4c72-9c37-9fdc52c02cdf",
   "metadata": {},
   "outputs": [
    {
     "data": {
      "text/plain": [
       "1"
      ]
     },
     "execution_count": 24,
     "metadata": {},
     "output_type": "execute_result"
    }
   ],
   "source": [
    "a=7\n",
    "b=2\n",
    "a%2"
   ]
  },
  {
   "cell_type": "code",
   "execution_count": 25,
   "id": "dadf26d4-a6cb-4eac-9560-2bac1dd61753",
   "metadata": {},
   "outputs": [
    {
     "data": {
      "text/plain": [
       "49"
      ]
     },
     "execution_count": 25,
     "metadata": {},
     "output_type": "execute_result"
    }
   ],
   "source": [
    "a**2"
   ]
  },
  {
   "cell_type": "code",
   "execution_count": 26,
   "id": "cc018161-a076-4176-9f7b-d4cde6c46ec0",
   "metadata": {},
   "outputs": [
    {
     "data": {
      "text/plain": [
       "3"
      ]
     },
     "execution_count": 26,
     "metadata": {},
     "output_type": "execute_result"
    }
   ],
   "source": [
    "a//2"
   ]
  },
  {
   "cell_type": "markdown",
   "id": "7afa3ddd-cd73-4b7e-8009-f91d32cbf924",
   "metadata": {},
   "source": [
    "**Comparison Operator**"
   ]
  },
  {
   "cell_type": "code",
   "execution_count": 28,
   "id": "4b8c62a8-bd44-4981-9404-e969d1d69ed3",
   "metadata": {},
   "outputs": [
    {
     "data": {
      "text/plain": [
       "True"
      ]
     },
     "execution_count": 28,
     "metadata": {},
     "output_type": "execute_result"
    }
   ],
   "source": [
    "a>b"
   ]
  },
  {
   "cell_type": "code",
   "execution_count": 27,
   "id": "46d187e3-9786-4b8c-a9ec-373898b12cb7",
   "metadata": {},
   "outputs": [
    {
     "data": {
      "text/plain": [
       "False"
      ]
     },
     "execution_count": 27,
     "metadata": {},
     "output_type": "execute_result"
    }
   ],
   "source": [
    "a<b"
   ]
  },
  {
   "cell_type": "code",
   "execution_count": 29,
   "id": "aac712fb-02a1-4980-8a04-3f8651cb50f3",
   "metadata": {},
   "outputs": [
    {
     "data": {
      "text/plain": [
       "True"
      ]
     },
     "execution_count": 29,
     "metadata": {},
     "output_type": "execute_result"
    }
   ],
   "source": [
    "a>=b"
   ]
  },
  {
   "cell_type": "code",
   "execution_count": 30,
   "id": "4e9806a7-a13b-4125-9d1c-154c036ced02",
   "metadata": {},
   "outputs": [
    {
     "data": {
      "text/plain": [
       "False"
      ]
     },
     "execution_count": 30,
     "metadata": {},
     "output_type": "execute_result"
    }
   ],
   "source": [
    "a<=b"
   ]
  },
  {
   "cell_type": "code",
   "execution_count": 31,
   "id": "ae3f6b59-63db-462a-a485-ead40b2e678b",
   "metadata": {},
   "outputs": [
    {
     "data": {
      "text/plain": [
       "True"
      ]
     },
     "execution_count": 31,
     "metadata": {},
     "output_type": "execute_result"
    }
   ],
   "source": [
    "a!=b\n"
   ]
  },
  {
   "cell_type": "code",
   "execution_count": 32,
   "id": "30127eb4-5dde-4ccf-8964-13a7b6cdee51",
   "metadata": {},
   "outputs": [
    {
     "data": {
      "text/plain": [
       "False"
      ]
     },
     "execution_count": 32,
     "metadata": {},
     "output_type": "execute_result"
    }
   ],
   "source": [
    "a==b"
   ]
  },
  {
   "cell_type": "markdown",
   "id": "0b1ba98d-add2-4d02-8027-e046031a6e6f",
   "metadata": {},
   "source": [
    "**Logical Operator**"
   ]
  },
  {
   "cell_type": "code",
   "execution_count": 33,
   "id": "40c4f594-bc02-4806-bc68-0137fad4bd72",
   "metadata": {},
   "outputs": [],
   "source": [
    "x= True\n",
    "y=False \n"
   ]
  },
  {
   "cell_type": "code",
   "execution_count": 34,
   "id": "85bf5322-faac-41d8-abea-82f13d7232f8",
   "metadata": {},
   "outputs": [
    {
     "data": {
      "text/plain": [
       "True"
      ]
     },
     "execution_count": 34,
     "metadata": {},
     "output_type": "execute_result"
    }
   ],
   "source": [
    "x or y"
   ]
  },
  {
   "cell_type": "code",
   "execution_count": 35,
   "id": "c2f3852e-8fbf-4d94-91f6-2d8231182375",
   "metadata": {},
   "outputs": [
    {
     "data": {
      "text/plain": [
       "False"
      ]
     },
     "execution_count": 35,
     "metadata": {},
     "output_type": "execute_result"
    }
   ],
   "source": [
    "x and y"
   ]
  },
  {
   "cell_type": "code",
   "execution_count": 36,
   "id": "bddd6580-f97a-463d-99e4-a8133fc21325",
   "metadata": {},
   "outputs": [
    {
     "data": {
      "text/plain": [
       "False"
      ]
     },
     "execution_count": 36,
     "metadata": {},
     "output_type": "execute_result"
    }
   ],
   "source": [
    "not x"
   ]
  },
  {
   "cell_type": "code",
   "execution_count": 37,
   "id": "04d4a22f-6855-4761-bff5-27245a088a0b",
   "metadata": {},
   "outputs": [
    {
     "data": {
      "text/plain": [
       "True"
      ]
     },
     "execution_count": 37,
     "metadata": {},
     "output_type": "execute_result"
    }
   ],
   "source": [
    "not y"
   ]
  },
  {
   "cell_type": "markdown",
   "id": "fa77d299-8119-4a08-aaf7-2615493ebf23",
   "metadata": {},
   "source": [
    "**Bitwise Operator**"
   ]
  },
  {
   "cell_type": "raw",
   "id": "88dfc1a7-8cff-49bd-9b03-e099238c3280",
   "metadata": {},
   "source": [
    "x=2\n",
    "y=3"
   ]
  },
  {
   "cell_type": "code",
   "execution_count": 39,
   "id": "9c54010f-c839-4570-960b-68b94f18bfb2",
   "metadata": {},
   "outputs": [
    {
     "name": "stdout",
     "output_type": "stream",
     "text": [
      "2\n"
     ]
    }
   ],
   "source": [
    "print (x&y) # And "
   ]
  },
  {
   "cell_type": "markdown",
   "id": "5015a3fe-94bd-4cbf-bd2d-8d721544c60f",
   "metadata": {},
   "source": [
    "- 010    2\n",
    "- 110    3\n",
    "- ----\n",
    "- 010     2"
   ]
  },
  {
   "cell_type": "code",
   "execution_count": 40,
   "id": "608ebfc0-bb8a-4bbf-9b4c-866202dbc4b2",
   "metadata": {},
   "outputs": [
    {
     "name": "stdout",
     "output_type": "stream",
     "text": [
      "3\n"
     ]
    }
   ],
   "source": [
    "print (x | y) # Or"
   ]
  },
  {
   "cell_type": "code",
   "execution_count": 41,
   "id": "d63e014b-6641-4fa1-aa2e-8d86a651fcbf",
   "metadata": {},
   "outputs": [
    {
     "data": {
      "text/plain": [
       "1"
      ]
     },
     "execution_count": 41,
     "metadata": {},
     "output_type": "execute_result"
    }
   ],
   "source": [
    "x^y # xor"
   ]
  },
  {
   "cell_type": "code",
   "execution_count": 42,
   "id": "80cb020d-0021-41cc-bdcd-e3b782525c10",
   "metadata": {},
   "outputs": [
    {
     "data": {
      "text/plain": [
       "-3"
      ]
     },
     "execution_count": 42,
     "metadata": {},
     "output_type": "execute_result"
    }
   ],
   "source": [
    "~ x # not"
   ]
  },
  {
   "cell_type": "markdown",
   "id": "a9c2d096-b735-405f-8bdf-1e6249c15fa1",
   "metadata": {},
   "source": [
    "**Assignment Operator**"
   ]
  },
  {
   "cell_type": "code",
   "execution_count": 44,
   "id": "e112031d-99b8-4810-b0af-0c6ae6a04095",
   "metadata": {},
   "outputs": [
    {
     "name": "stdout",
     "output_type": "stream",
     "text": [
      "3\n"
     ]
    }
   ],
   "source": [
    "a=3   # assigning value to a variable with an operator is assignment operator like \"=\"\"\n",
    "print(a) "
   ]
  },
  {
   "cell_type": "code",
   "execution_count": 45,
   "id": "a4bc22e9-653d-487c-93cb-db88b81d107e",
   "metadata": {},
   "outputs": [
    {
     "name": "stdout",
     "output_type": "stream",
     "text": [
      "6\n"
     ]
    }
   ],
   "source": [
    "a+=3 #a=a+3\n",
    "print (a)"
   ]
  },
  {
   "cell_type": "code",
   "execution_count": 46,
   "id": "5b30d0e1-86c0-476d-b392-4d3d46b2f518",
   "metadata": {},
   "outputs": [
    {
     "data": {
      "text/plain": [
       "3"
      ]
     },
     "execution_count": 46,
     "metadata": {},
     "output_type": "execute_result"
    }
   ],
   "source": [
    "a-=3\n",
    "a"
   ]
  },
  {
   "cell_type": "code",
   "execution_count": 47,
   "id": "27758200-a308-488c-b18e-8744f5125769",
   "metadata": {},
   "outputs": [
    {
     "data": {
      "text/plain": [
       "3"
      ]
     },
     "execution_count": 47,
     "metadata": {},
     "output_type": "execute_result"
    }
   ],
   "source": [
    "a"
   ]
  },
  {
   "cell_type": "code",
   "execution_count": 48,
   "id": "3fc452fa-339b-4d45-b1db-33562f744a22",
   "metadata": {},
   "outputs": [
    {
     "data": {
      "text/plain": [
       "0"
      ]
     },
     "execution_count": 48,
     "metadata": {},
     "output_type": "execute_result"
    }
   ],
   "source": [
    "3-3"
   ]
  },
  {
   "cell_type": "code",
   "execution_count": 49,
   "id": "a9fe2ef1-dd1e-480a-94bb-9598c1bec191",
   "metadata": {},
   "outputs": [],
   "source": [
    "a*=3"
   ]
  },
  {
   "cell_type": "code",
   "execution_count": 50,
   "id": "63dc2435-78d5-4ade-a1fb-fd0171319fb6",
   "metadata": {},
   "outputs": [
    {
     "data": {
      "text/plain": [
       "9"
      ]
     },
     "execution_count": 50,
     "metadata": {},
     "output_type": "execute_result"
    }
   ],
   "source": [
    "a"
   ]
  },
  {
   "cell_type": "markdown",
   "id": "40d9b292-88f8-4b93-8d79-0dcbdc3b6817",
   "metadata": {},
   "source": [
    "**Identity Operator**"
   ]
  },
  {
   "cell_type": "markdown",
   "id": "b99a9995-b524-4a0d-ab9b-e6e361b81b71",
   "metadata": {},
   "source": [
    "Identity operator checks two variables are located in same memory location or not"
   ]
  },
  {
   "cell_type": "code",
   "execution_count": 51,
   "id": "eb81fb67-14a6-4da8-9f9e-d6ea753d6549",
   "metadata": {},
   "outputs": [
    {
     "name": "stdout",
     "output_type": "stream",
     "text": [
      "True\n"
     ]
    }
   ],
   "source": [
    "a=3\n",
    "b=3\n",
    "print(a is b)"
   ]
  },
  {
   "cell_type": "code",
   "execution_count": 52,
   "id": "e97d56fa-7987-43d4-9b8b-dad113d14252",
   "metadata": {},
   "outputs": [
    {
     "name": "stdout",
     "output_type": "stream",
     "text": [
      "False\n"
     ]
    }
   ],
   "source": [
    "a= [\"Hello\"]\n",
    "b=[\"Hello\"]\n",
    "print (a is b)"
   ]
  },
  {
   "cell_type": "code",
   "execution_count": 53,
   "id": "88e5882e-996a-44a5-a3fd-af923ad271cc",
   "metadata": {},
   "outputs": [
    {
     "name": "stdout",
     "output_type": "stream",
     "text": [
      "True\n"
     ]
    }
   ],
   "source": [
    "a =\"Hello\"\n",
    "b=\"Hello\"\n",
    "print (a is b)"
   ]
  },
  {
   "cell_type": "code",
   "execution_count": 54,
   "id": "e01e7a83-dde5-4e0c-a039-93b29c88d994",
   "metadata": {},
   "outputs": [
    {
     "name": "stdout",
     "output_type": "stream",
     "text": [
      "False\n"
     ]
    }
   ],
   "source": [
    "a= [1,2,3] \n",
    "b= [1,2,3]\n",
    "print (a is b) # Although values of a and b are same , but it stored in different memory location "
   ]
  },
  {
   "cell_type": "code",
   "execution_count": 55,
   "id": "65be08b4-53b7-42f0-b9d3-e3582bd103cd",
   "metadata": {},
   "outputs": [
    {
     "name": "stdout",
     "output_type": "stream",
     "text": [
      "True\n"
     ]
    }
   ],
   "source": [
    "print ( a is not b)"
   ]
  },
  {
   "cell_type": "code",
   "execution_count": null,
   "id": "c90b8517-b25d-48b5-813c-3fd044edd330",
   "metadata": {},
   "outputs": [],
   "source": []
  },
  {
   "cell_type": "code",
   "execution_count": null,
   "id": "630b1b77-267f-4288-a275-d0642f4d2510",
   "metadata": {},
   "outputs": [],
   "source": []
  },
  {
   "cell_type": "code",
   "execution_count": null,
   "id": "df7a0c5d-c2b8-43fe-83b8-eda0cae20d4a",
   "metadata": {},
   "outputs": [],
   "source": []
  }
 ],
 "metadata": {
  "kernelspec": {
   "display_name": "Python 3 (ipykernel)",
   "language": "python",
   "name": "python3"
  },
  "language_info": {
   "codemirror_mode": {
    "name": "ipython",
    "version": 3
   },
   "file_extension": ".py",
   "mimetype": "text/x-python",
   "name": "python",
   "nbconvert_exporter": "python",
   "pygments_lexer": "ipython3",
   "version": "3.12.7"
  }
 },
 "nbformat": 4,
 "nbformat_minor": 5
}
