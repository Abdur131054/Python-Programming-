{
 "cells": [
  {
   "cell_type": "markdown",
   "id": "28b6da86-1eec-4ef9-aee9-e209dc83b9e2",
   "metadata": {},
   "source": [
    "# 1. Python Print Function "
   ]
  },
  {
   "cell_type": "code",
   "execution_count": 14,
   "id": "761ff1ef-2fcb-410c-9244-039d0f464348",
   "metadata": {},
   "outputs": [
    {
     "name": "stdout",
     "output_type": "stream",
     "text": [
      "Hello world\n"
     ]
    }
   ],
   "source": [
    "print ('Hello world')"
   ]
  },
  {
   "cell_type": "markdown",
   "id": "130cbd55-4a16-4e4f-aafe-7640de8d1ed3",
   "metadata": {},
   "source": [
    "we can print number , decimal boolean , not just string"
   ]
  },
  {
   "cell_type": "code",
   "execution_count": 15,
   "id": "82ce5c85-e409-42f8-8463-94cca678790f",
   "metadata": {},
   "outputs": [
    {
     "name": "stdout",
     "output_type": "stream",
     "text": [
      "2\n"
     ]
    }
   ],
   "source": [
    "print (2)"
   ]
  },
  {
   "cell_type": "code",
   "execution_count": 16,
   "id": "dd3bf7a9-cd7e-4a57-bd9e-47daa53bf104",
   "metadata": {},
   "outputs": [
    {
     "name": "stdout",
     "output_type": "stream",
     "text": [
      "5.6\n"
     ]
    }
   ],
   "source": [
    "print (5.6)"
   ]
  },
  {
   "cell_type": "code",
   "execution_count": 18,
   "id": "be463062-4f6f-4fdc-82f7-3f0e0ff30389",
   "metadata": {},
   "outputs": [
    {
     "name": "stdout",
     "output_type": "stream",
     "text": [
      "False\n"
     ]
    }
   ],
   "source": [
    "print(False)"
   ]
  },
  {
   "cell_type": "markdown",
   "id": "ff3bb2ed-3b10-40ef-9341-0d7bb859399b",
   "metadata": {},
   "source": [
    "#### Python's print function is quit powerfull actually. One important feature is we can print more then one things at a time "
   ]
  },
  {
   "cell_type": "code",
   "execution_count": 19,
   "id": "dca6fcbd-b724-439c-ba64-ff6ab66c2e59",
   "metadata": {},
   "outputs": [
    {
     "name": "stdout",
     "output_type": "stream",
     "text": [
      "Bangladesh India Pakistan\n"
     ]
    }
   ],
   "source": [
    "print ('Bangladesh', 'India', 'Pakistan')"
   ]
  },
  {
   "cell_type": "code",
   "execution_count": 20,
   "id": "6a330c6d-5b07-4c14-aff4-6a71b78a20cb",
   "metadata": {},
   "outputs": [
    {
     "name": "stdout",
     "output_type": "stream",
     "text": [
      "India 6 True\n"
     ]
    }
   ],
   "source": [
    "print ('India', 6, True)"
   ]
  },
  {
   "cell_type": "code",
   "execution_count": 21,
   "id": "b7e46ca1-d81b-446f-80ef-bd63b37a2f71",
   "metadata": {},
   "outputs": [
    {
     "name": "stdout",
     "output_type": "stream",
     "text": [
      "Bangladesh/India/Pakistan\n"
     ]
    }
   ],
   "source": [
    "print('Bangladesh','India','Pakistan', sep='/') #adding sep parameter"
   ]
  },
  {
   "cell_type": "code",
   "execution_count": 22,
   "id": "1214d556-83c9-4cdc-8552-efa08bbb3574",
   "metadata": {},
   "outputs": [
    {
     "name": "stdout",
     "output_type": "stream",
     "text": [
      "Bangladesh-India-Pakistan\n"
     ]
    }
   ],
   "source": [
    "print('Bangladesh','India','Pakistan', sep='-')"
   ]
  },
  {
   "cell_type": "code",
   "execution_count": 23,
   "id": "5f96021c-2c5f-4eb1-9294-f42d80177e7a",
   "metadata": {},
   "outputs": [
    {
     "name": "stdout",
     "output_type": "stream",
     "text": [
      "Hello\n",
      "World\n"
     ]
    }
   ],
   "source": [
    "print('Hello')\n",
    "print('World') #by default end=/n , means new line "
   ]
  },
  {
   "cell_type": "code",
   "execution_count": 26,
   "id": "e7cd902f-c91b-4906-aaf5-f10104a8ebbb",
   "metadata": {},
   "outputs": [
    {
     "name": "stdout",
     "output_type": "stream",
     "text": [
      "Hello World\n"
     ]
    }
   ],
   "source": [
    "print ('Hello', end=' ')\n",
    "print ('World')  # at end parameter used blank space , not in next line"
   ]
  },
  {
   "cell_type": "markdown",
   "id": "f89908f5-7f94-4ad0-8c2c-41785f5509ff",
   "metadata": {},
   "source": [
    "# 2. Python Data Type"
   ]
  },
  {
   "cell_type": "markdown",
   "id": "a9192f98-9ff7-42a6-88a2-46bc9d91559e",
   "metadata": {},
   "source": [
    "## Python Supports 3 types of Data Types "
   ]
  },
  {
   "cell_type": "markdown",
   "id": "c46f73a8-aa30-485e-9fdf-00d0575b35f7",
   "metadata": {},
   "source": [
    ". Basic Types: (Integer, Float, Boolean and String)<br>\n",
    ". Container Type (List, Tuple, Sets and Dictionaries)<br>\n",
    ". User Defined Types"
   ]
  },
  {
   "cell_type": "markdown",
   "id": "c4150905-63b4-471d-9bf1-0f73173e226b",
   "metadata": {},
   "source": [
    "## Basic Types"
   ]
  },
  {
   "cell_type": "markdown",
   "id": "7ba8c97b-c038-49e8-80da-4de6ec198b95",
   "metadata": {},
   "source": [
    "#### Integer"
   ]
  },
  {
   "cell_type": "code",
   "execution_count": 27,
   "id": "cdd9b660-6e7e-45c7-9992-4208f37fd140",
   "metadata": {},
   "outputs": [
    {
     "name": "stdout",
     "output_type": "stream",
     "text": [
      "4\n"
     ]
    }
   ],
   "source": [
    "#integer \n",
    "print(4)"
   ]
  },
  {
   "cell_type": "code",
   "execution_count": 28,
   "id": "1f4640c8-b836-4c45-95c0-a73505d3041e",
   "metadata": {},
   "outputs": [
    {
     "name": "stdout",
     "output_type": "stream",
     "text": [
      "80000000000000000000000000000000000000000000000\n"
     ]
    }
   ],
   "source": [
    "# big size integer\n",
    "print(80000000000000000000000000000000000000000000000)"
   ]
  },
  {
   "cell_type": "code",
   "execution_count": 33,
   "id": "0e9e16dc-920d-4ef2-8824-55e50be5795c",
   "metadata": {},
   "outputs": [
    {
     "name": "stdout",
     "output_type": "stream",
     "text": [
      "1e+308\n"
     ]
    }
   ],
   "source": [
    "#integer limit \n",
    "print (1e308)"
   ]
  },
  {
   "cell_type": "code",
   "execution_count": 32,
   "id": "af70bd91-ec5b-4c4a-a06f-601e12d420ad",
   "metadata": {},
   "outputs": [
    {
     "name": "stdout",
     "output_type": "stream",
     "text": [
      "inf\n"
     ]
    }
   ],
   "source": [
    "#integer limit\n",
    "print(1e309)"
   ]
  },
  {
   "cell_type": "markdown",
   "id": "0e69c640-198b-4a15-b818-4aac1eadc473",
   "metadata": {},
   "source": [
    "#### Float"
   ]
  },
  {
   "cell_type": "code",
   "execution_count": 35,
   "id": "51c955fe-fbfd-43ec-aa89-9bf6d69c35ce",
   "metadata": {},
   "outputs": [
    {
     "name": "stdout",
     "output_type": "stream",
     "text": [
      "5.6\n"
     ]
    }
   ],
   "source": [
    "print(5.6)"
   ]
  },
  {
   "cell_type": "code",
   "execution_count": 36,
   "id": "00fec730-726d-44c2-8626-66835cce8ee0",
   "metadata": {},
   "outputs": [
    {
     "name": "stdout",
     "output_type": "stream",
     "text": [
      "1.7e+308\n"
     ]
    }
   ],
   "source": [
    "# float range\n",
    "print (1.7e308)"
   ]
  },
  {
   "cell_type": "code",
   "execution_count": 37,
   "id": "07025371-6d79-44b3-b2c1-e6199170d008",
   "metadata": {},
   "outputs": [
    {
     "name": "stdout",
     "output_type": "stream",
     "text": [
      "inf\n"
     ]
    }
   ],
   "source": [
    "print (1.7e309)"
   ]
  },
  {
   "cell_type": "markdown",
   "id": "8e1d7e82-04fe-4737-a4e8-8082b5c156f3",
   "metadata": {},
   "source": [
    "#### Boolean"
   ]
  },
  {
   "cell_type": "code",
   "execution_count": 38,
   "id": "333edceb-c3a3-468c-8f57-b4f156cb7815",
   "metadata": {},
   "outputs": [
    {
     "name": "stdout",
     "output_type": "stream",
     "text": [
      "True\n"
     ]
    }
   ],
   "source": [
    "print (True)"
   ]
  },
  {
   "cell_type": "code",
   "execution_count": 39,
   "id": "481e6dd7-143f-4cfe-88ab-99aa67a233e0",
   "metadata": {},
   "outputs": [
    {
     "name": "stdout",
     "output_type": "stream",
     "text": [
      "False\n"
     ]
    }
   ],
   "source": [
    "print (False)"
   ]
  },
  {
   "cell_type": "markdown",
   "id": "67588880-7e07-4b16-bc53-da303650d615",
   "metadata": {},
   "source": [
    "#### Complex"
   ]
  },
  {
   "cell_type": "code",
   "execution_count": 40,
   "id": "7fc7e7d0-c415-4373-951e-beba69d4c04b",
   "metadata": {},
   "outputs": [
    {
     "name": "stdout",
     "output_type": "stream",
     "text": [
      "(4+5j)\n"
     ]
    }
   ],
   "source": [
    "print(4+5j)"
   ]
  },
  {
   "cell_type": "markdown",
   "id": "4915cf39-6ef2-4ba4-93b0-fcf8245339cb",
   "metadata": {},
   "source": [
    "#### String "
   ]
  },
  {
   "cell_type": "code",
   "execution_count": 42,
   "id": "e0c75c17-5b06-46c9-90d4-9269452e1625",
   "metadata": {},
   "outputs": [
    {
     "name": "stdout",
     "output_type": "stream",
     "text": [
      "Dhaka\n",
      "Dhaka\n",
      "Dhaka\n"
     ]
    }
   ],
   "source": [
    "print('Dhaka') # with single inverted comma\n",
    "print (\"Dhaka\") # Double inverted comma\n",
    "print (\"\"\"Dhaka\"\"\")"
   ]
  },
  {
   "cell_type": "markdown",
   "id": "250cb9b3-d37d-4ea8-ae5e-4dac8323103b",
   "metadata": {},
   "source": [
    "## Container Type "
   ]
  },
  {
   "cell_type": "code",
   "execution_count": 2,
   "id": "cf440aa5-d530-4fbd-9a54-9b5cf87fcc99",
   "metadata": {},
   "outputs": [
    {
     "name": "stdout",
     "output_type": "stream",
     "text": [
      "[1, 2, 3, 4]\n"
     ]
    }
   ],
   "source": [
    "#List\n",
    "print([1,2,3,4])"
   ]
  },
  {
   "cell_type": "code",
   "execution_count": 3,
   "id": "6b520148-6ca8-420d-8564-5cf1f4bbc40f",
   "metadata": {},
   "outputs": [
    {
     "name": "stdout",
     "output_type": "stream",
     "text": [
      "(1, 2, 3, 4)\n"
     ]
    }
   ],
   "source": [
    "#tuple\n",
    "print((1,2,3,4))"
   ]
  },
  {
   "cell_type": "code",
   "execution_count": 4,
   "id": "6f51fa06-dd2c-42ae-a30b-9d89633e8cca",
   "metadata": {},
   "outputs": [
    {
     "name": "stdout",
     "output_type": "stream",
     "text": [
      "{1, 2, 3, 4}\n"
     ]
    }
   ],
   "source": [
    "#sets\n",
    "print({1,2,3,4})"
   ]
  },
  {
   "cell_type": "markdown",
   "id": "6443d04b-9062-4aa1-9425-16bef03819f5",
   "metadata": {},
   "source": [
    "# User Defined Types:class"
   ]
  },
  {
   "cell_type": "markdown",
   "id": "a5b84717-6a49-4fe8-aa06-fd9291f11209",
   "metadata": {},
   "source": [
    "Will cover in object oriented programming"
   ]
  },
  {
   "cell_type": "markdown",
   "id": "ef3fee41-b756-404c-bd64-ce6febe83507",
   "metadata": {},
   "source": [
    "# 3.Comments"
   ]
  },
  {
   "cell_type": "markdown",
   "id": "80657738-8b8e-494b-bf54-2c3cb2a9fe13",
   "metadata": {},
   "source": [
    "A pieces of code which is not executeable by the compiler and interpretor.Core objective of writting comment is code readability."
   ]
  },
  {
   "cell_type": "code",
   "execution_count": 5,
   "id": "cc970a0b-e929-4f20-97fd-0b9f79b18d64",
   "metadata": {},
   "outputs": [],
   "source": [
    "# This is a comment "
   ]
  },
  {
   "cell_type": "code",
   "execution_count": 6,
   "id": "de7a7c22-1fa6-4aeb-a730-41912592448b",
   "metadata": {},
   "outputs": [],
   "source": [
    "# For multiline comment need to write # before each line "
   ]
  },
  {
   "cell_type": "code",
   "execution_count": 7,
   "id": "bc35397b-a823-47a6-ac09-159e8c7996a6",
   "metadata": {},
   "outputs": [],
   "source": [
    "#This is a comment\n",
    "#This is also a comment"
   ]
  },
  {
   "cell_type": "markdown",
   "id": "2c3c44b7-2547-4933-a302-d137c4d41cb5",
   "metadata": {},
   "source": [
    "Python does not have an official multi-line comment syntax"
   ]
  },
  {
   "cell_type": "markdown",
   "id": "8f6daa8b-d10b-437b-95c7-267b2ee65409",
   "metadata": {},
   "source": [
    "# 4.Variables"
   ]
  },
  {
   "cell_type": "markdown",
   "id": "78414fb8-3752-4e82-bf0d-23ffe77138ca",
   "metadata": {},
   "source": [
    " In Python, variables are defined by assigning a value to a name using the = operator. Unlike other languages, Python does not require explicit data type declaration—types are inferred dynamically."
   ]
  },
  {
   "cell_type": "markdown",
   "id": "b2e4284b-06a3-4508-b47a-0e1a07f5ae73",
   "metadata": {},
   "source": [
    "## Variable Naming Rules\n",
    "> Must start with a letter (A-Z, a-z) or underscore _ \\\n",
    "> Can contain letters, numbers, and underscores\\\n",
    "> Case-sensitive (myVar and myvar are different)\\\n",
    "> Should not use Python reserved keywords (e.g., if, else, class)\\"
   ]
  },
  {
   "cell_type": "markdown",
   "id": "ca0bce1d-050f-457c-8193-8f26abf2696d",
   "metadata": {},
   "source": [
    "### Why Do We Need Variables in Programming?"
   ]
  },
  {
   "cell_type": "markdown",
   "id": "01d07d1c-5386-48af-baf5-ef9b8996a54d",
   "metadata": {},
   "source": [
    "Variables are fundamental in programming because they allow us to store, manipulate, and reuse data efficiently. \n",
    "Here is why they are essential:"
   ]
  },
  {
   "cell_type": "markdown",
   "id": "0fd3a71e-acc9-4638-91b3-ceb2ca99bee9",
   "metadata": {},
   "source": [
    "Variables make programs:\n",
    "✅ Flexible (can change values without modifying the entire code)\n",
    "✅ Readable (give meaningful names to values)\n",
    "✅ Efficient (store and reuse data)\n",
    "✅ Interactive (handle user input and dynamic changes)"
   ]
  },
  {
   "cell_type": "markdown",
   "id": "fbcff9f6-9583-4248-b588-0e895f89ad8c",
   "metadata": {},
   "source": [
    "variables are containers for future use"
   ]
  },
  {
   "cell_type": "markdown",
   "id": "cea2b0b1-76b5-4d79-9e04-961ae66da882",
   "metadata": {},
   "source": [
    "As a programmer, you often don’t know what values users will provide or how data will change during program execution.\n",
    "Variables help manage this uncertainty by making your code flexible and adaptable."
   ]
  },
  {
   "cell_type": "markdown",
   "id": "627c4796-5f5a-432c-a5fa-89b2e13474a6",
   "metadata": {},
   "source": [
    "#### Declaring Variables "
   ]
  },
  {
   "cell_type": "markdown",
   "id": "087077d5-d8db-470e-9de1-6e80650cfb7f",
   "metadata": {},
   "source": [
    "In Python, No Variable Declaration is Needed Before Use\n",
    "Unlike statically typed languages like C, C++, or Java, Python is dynamically typed, meaning you don’t need to declare variables before using them. You can simply assign a value to a variable, and Python will automatically determine its type."
   ]
  },
  {
   "cell_type": "code",
   "execution_count": 17,
   "id": "4c2286c2-2429-4058-bdb6-f883fc7a0115",
   "metadata": {},
   "outputs": [],
   "source": [
    "name=\"Abdur\""
   ]
  },
  {
   "cell_type": "code",
   "execution_count": 18,
   "id": "fa7c9eb6-d0d3-4222-a958-38ac7b60452d",
   "metadata": {},
   "outputs": [
    {
     "name": "stdout",
     "output_type": "stream",
     "text": [
      "Abdur\n"
     ]
    }
   ],
   "source": [
    "print(name)"
   ]
  },
  {
   "cell_type": "code",
   "execution_count": 19,
   "id": "fcd379b0-dd2f-43a7-abfd-d9641930b9b5",
   "metadata": {},
   "outputs": [
    {
     "ename": "NameError",
     "evalue": "name 'Abdur' is not defined",
     "output_type": "error",
     "traceback": [
      "\u001b[1;31m---------------------------------------------------------------------------\u001b[0m",
      "\u001b[1;31mNameError\u001b[0m                                 Traceback (most recent call last)",
      "Cell \u001b[1;32mIn[19], line 2\u001b[0m\n\u001b[0;32m      1\u001b[0m \u001b[38;5;66;03m# if we store string without quotation then it will give error \u001b[39;00m\n\u001b[1;32m----> 2\u001b[0m name \u001b[38;5;241m=\u001b[39m Abdur \n\u001b[0;32m      3\u001b[0m \u001b[38;5;28mprint\u001b[39m (name)\n",
      "\u001b[1;31mNameError\u001b[0m: name 'Abdur' is not defined"
     ]
    }
   ],
   "source": [
    "# if we store string without quotation then it will give error \n",
    "name = Abdur \n",
    "print (name)"
   ]
  },
  {
   "cell_type": "markdown",
   "id": "0dd36078-a4a7-47da-80ba-b7af09b80417",
   "metadata": {},
   "source": [
    "#### Dynamic Typing\n"
   ]
  },
  {
   "cell_type": "markdown",
   "id": "4eb5ca17-3039-46e1-ab29-dceceb7624f6",
   "metadata": {},
   "source": [
    "Dynamic typing means that Python determines the type of a variable at runtime, based on the value assigned to it. You don’t have to declare variable types explicitly like in statically typed languages (e.g., C, Java)."
   ]
  },
  {
   "cell_type": "markdown",
   "id": "d93f89be-cab8-461a-936d-c257b12ff28a",
   "metadata": {},
   "source": [
    "#### Dynamic Binding "
   ]
  },
  {
   "cell_type": "markdown",
   "id": "9f3f0b3a-0c38-4fec-9b12-85ba118f3d62",
   "metadata": {},
   "source": [
    "In Python, a variable is just a reference to a value in memory, not a fixed storage location with a specific data type (like in C or Java). This means you can change the type of a variable at any time by assigning a new value."
   ]
  },
  {
   "cell_type": "code",
   "execution_count": 21,
   "id": "08f38c51-ddb5-4d0b-9995-6df1f155516f",
   "metadata": {},
   "outputs": [
    {
     "name": "stdout",
     "output_type": "stream",
     "text": [
      "Abdur\n"
     ]
    }
   ],
   "source": [
    "name= \"Abdur\"\n",
    "print(name)"
   ]
  },
  {
   "cell_type": "code",
   "execution_count": 22,
   "id": "a21b84ba-e9df-474c-b08c-ee9933f4997b",
   "metadata": {},
   "outputs": [
    {
     "name": "stdout",
     "output_type": "stream",
     "text": [
      "5\n"
     ]
    }
   ],
   "source": [
    "name=5\n",
    "print (name)"
   ]
  },
  {
   "cell_type": "code",
   "execution_count": 23,
   "id": "839dad93-59a1-4ef9-9065-c525137844af",
   "metadata": {},
   "outputs": [
    {
     "name": "stdout",
     "output_type": "stream",
     "text": [
      "True\n"
     ]
    }
   ],
   "source": [
    "name=True\n",
    "print (name)"
   ]
  },
  {
   "cell_type": "code",
   "execution_count": 24,
   "id": "482315e8-72c1-48cf-ba4f-c39abca51a45",
   "metadata": {},
   "outputs": [],
   "source": [
    "#Static Binding "
   ]
  },
  {
   "cell_type": "markdown",
   "id": "1f26da15-e49a-45f6-b479-1fba46d10e67",
   "metadata": {},
   "source": [
    "Static binding, also known as early binding, refers to the process of associating a method or variable with its corresponding memory address or type at compile-time (before the program is run). This is common in statically typed languages like C, C++, and Java."
   ]
  },
  {
   "cell_type": "code",
   "execution_count": 26,
   "id": "8d63efaf-1397-4d84-b498-de2051a7e443",
   "metadata": {},
   "outputs": [
    {
     "name": "stdout",
     "output_type": "stream",
     "text": [
      "2\n",
      "3\n",
      "4\n"
     ]
    }
   ],
   "source": [
    "#especial syntax to print multiple variables \n",
    "a=2;b=3;c=4\n",
    "print(a)\n",
    "print(b)\n",
    "print(c)"
   ]
  },
  {
   "cell_type": "code",
   "execution_count": 27,
   "id": "f4c562c4-4ac8-4109-a149-265e254cb2b4",
   "metadata": {},
   "outputs": [
    {
     "name": "stdout",
     "output_type": "stream",
     "text": [
      "1\n",
      "2\n",
      "3\n"
     ]
    }
   ],
   "source": [
    "a,b,c=1,2,3\n",
    "print(a)\n",
    "print(b)\n",
    "print(c)"
   ]
  },
  {
   "cell_type": "code",
   "execution_count": 30,
   "id": "21e60560-a788-439b-9e9e-953778139163",
   "metadata": {},
   "outputs": [
    {
     "name": "stdout",
     "output_type": "stream",
     "text": [
      "6\n",
      "6\n",
      "6\n",
      "6\n"
     ]
    }
   ],
   "source": [
    "a=b=c=d= 6\n",
    "print(a)\n",
    "print(b)\n",
    "print(c)\n",
    "print(d)\n"
   ]
  },
  {
   "cell_type": "markdown",
   "id": "7fbf18b8-d184-4531-ae2c-0e92b599ba2e",
   "metadata": {},
   "source": [
    "# 5.Keywords and Identifiers"
   ]
  },
  {
   "cell_type": "markdown",
   "id": "a9a3999a-633a-4734-b299-b502d0e25914",
   "metadata": {},
   "source": [
    "python is a case sensitive programming language"
   ]
  },
  {
   "cell_type": "markdown",
   "id": "dd18ad87-b32e-4379-99ad-64ab123a62a5",
   "metadata": {},
   "source": [
    "In programming keyword is a word that reserved by a program because that word has a special meaning. keywords can be commands or parameters. Every programming language has a set of keywords that can not be use as variable names"
   ]
  },
  {
   "cell_type": "code",
   "execution_count": 33,
   "id": "26850bef-cf51-4ea1-8578-126f7a2638fe",
   "metadata": {},
   "outputs": [
    {
     "name": "stdout",
     "output_type": "stream",
     "text": [
      "['False', 'None', 'True', 'and', 'as', 'assert', 'async', 'await', 'break', 'class', 'continue', 'def', 'del', 'elif', 'else', 'except', 'finally', 'for', 'from', 'global', 'if', 'import', 'in', 'is', 'lambda', 'nonlocal', 'not', 'or', 'pass', 'raise', 'return', 'try', 'while', 'with', 'yield']\n"
     ]
    }
   ],
   "source": [
    "#python has 33 keywords \n",
    "import keyword\n",
    "print (keyword.kwlist)"
   ]
  },
  {
   "cell_type": "markdown",
   "id": "6b26e18c-1ae3-4bd9-b430-ed80acbae26e",
   "metadata": {},
   "source": [
    "In Python, keywords are reserved words that define the language's syntax and structure. You cannot use a keyword as a variable name because Python will interpret it as part of the language, leading to a SyntaxError"
   ]
  },
  {
   "cell_type": "markdown",
   "id": "fbf7e2a4-cd57-4d19-b99a-0087ddeb66f9",
   "metadata": {},
   "source": [
    "# Identifiers "
   ]
  },
  {
   "cell_type": "markdown",
   "id": "4d644912-74bb-460b-9298-43c1275039db",
   "metadata": {},
   "source": [
    "A python identifier is a name used to identify variables , function ,classs ,modules or other objects"
   ]
  },
  {
   "cell_type": "markdown",
   "id": "ce342cf6-8367-4983-a620-c72ae795bdf7",
   "metadata": {},
   "source": [
    "### Rules for setting identifers "
   ]
  },
  {
   "cell_type": "markdown",
   "id": "5b74e34b-3d73-4897-9406-f36dbf31058d",
   "metadata": {},
   "source": [
    "- Can only start with an alphabet o 0\n",
    "- followed by more o letter , _ and digits\n",
    "- keywords can not be used as identifiers"
   ]
  },
  {
   "cell_type": "code",
   "execution_count": 1,
   "id": "66c3103a-63ea-4c41-bdeb-bf0064c36cca",
   "metadata": {},
   "outputs": [],
   "source": [
    "_=\"Abdur\""
   ]
  },
  {
   "cell_type": "code",
   "execution_count": 2,
   "id": "70a920ec-6a96-43db-8164-89a276eb6122",
   "metadata": {},
   "outputs": [
    {
     "name": "stdout",
     "output_type": "stream",
     "text": [
      "Abdur\n"
     ]
    }
   ],
   "source": [
    "print(_)"
   ]
  },
  {
   "cell_type": "code",
   "execution_count": 3,
   "id": "f23913b9-f387-4a9e-83d9-fda3a65c9622",
   "metadata": {},
   "outputs": [
    {
     "ename": "SyntaxError",
     "evalue": "cannot assign to literal here. Maybe you meant '==' instead of '='? (4210323562.py, line 1)",
     "output_type": "error",
     "traceback": [
      "\u001b[1;36m  Cell \u001b[1;32mIn[3], line 1\u001b[1;36m\u001b[0m\n\u001b[1;33m    2=\"Abdur\"\u001b[0m\n\u001b[1;37m    ^\u001b[0m\n\u001b[1;31mSyntaxError\u001b[0m\u001b[1;31m:\u001b[0m cannot assign to literal here. Maybe you meant '==' instead of '='?\n"
     ]
    }
   ],
   "source": [
    "2=\"Abdur\" #can not start with digits"
   ]
  },
  {
   "cell_type": "code",
   "execution_count": 4,
   "id": "6d3f67c7-42a3-48cf-96db-72e533dda0dc",
   "metadata": {},
   "outputs": [],
   "source": [
    "# =\"Abdur\""
   ]
  },
  {
   "cell_type": "code",
   "execution_count": 5,
   "id": "ec351108-b32c-4cbf-86b8-913931791855",
   "metadata": {},
   "outputs": [
    {
     "ename": "SyntaxError",
     "evalue": "incomplete input (2996680520.py, line 1)",
     "output_type": "error",
     "traceback": [
      "\u001b[1;36m  Cell \u001b[1;32mIn[5], line 1\u001b[1;36m\u001b[0m\n\u001b[1;33m    print(#)\u001b[0m\n\u001b[1;37m            ^\u001b[0m\n\u001b[1;31mSyntaxError\u001b[0m\u001b[1;31m:\u001b[0m incomplete input\n"
     ]
    }
   ],
   "source": [
    "print(#) #special character can not use"
   ]
  },
  {
   "cell_type": "code",
   "execution_count": 6,
   "id": "8dcc1082-df4f-4d39-98a3-f09d52604f23",
   "metadata": {},
   "outputs": [],
   "source": [
    "name1= \"Abdur\""
   ]
  },
  {
   "cell_type": "code",
   "execution_count": 7,
   "id": "3031585f-474b-428a-8933-5229d249d255",
   "metadata": {},
   "outputs": [
    {
     "name": "stdout",
     "output_type": "stream",
     "text": [
      "Abdur\n"
     ]
    }
   ],
   "source": [
    "print (name1)"
   ]
  },
  {
   "cell_type": "code",
   "execution_count": 8,
   "id": "df268071-f8cc-45ba-9e1b-7f7b7f70e4aa",
   "metadata": {},
   "outputs": [
    {
     "ename": "SyntaxError",
     "evalue": "invalid decimal literal (3176561748.py, line 1)",
     "output_type": "error",
     "traceback": [
      "\u001b[1;36m  Cell \u001b[1;32mIn[8], line 1\u001b[1;36m\u001b[0m\n\u001b[1;33m    1name =\"Abdur\"\u001b[0m\n\u001b[1;37m    ^\u001b[0m\n\u001b[1;31mSyntaxError\u001b[0m\u001b[1;31m:\u001b[0m invalid decimal literal\n"
     ]
    }
   ],
   "source": [
    "1name =\"Abdur\"\n",
    "print(\"1name\")"
   ]
  },
  {
   "cell_type": "markdown",
   "id": "2dc07e0c-c6aa-4320-8b6c-324d0d0e0c10",
   "metadata": {},
   "source": [
    "without _ no any special character can be used "
   ]
  },
  {
   "cell_type": "code",
   "execution_count": 9,
   "id": "58416b50-f74f-473a-8d55-635b9e962795",
   "metadata": {},
   "outputs": [],
   "source": [
    "#double _ can be used \n",
    "__=\"Abdur\""
   ]
  },
  {
   "cell_type": "code",
   "execution_count": 10,
   "id": "e7850fb7-dcb5-452e-a27a-547a736c5f72",
   "metadata": {},
   "outputs": [
    {
     "name": "stdout",
     "output_type": "stream",
     "text": [
      "Abdur\n"
     ]
    }
   ],
   "source": [
    "print(__)"
   ]
  },
  {
   "cell_type": "code",
   "execution_count": 11,
   "id": "4868933c-8b47-4fc6-874a-8671d94e4afa",
   "metadata": {},
   "outputs": [
    {
     "ename": "SyntaxError",
     "evalue": "cannot assign to False (2916803823.py, line 1)",
     "output_type": "error",
     "traceback": [
      "\u001b[1;36m  Cell \u001b[1;32mIn[11], line 1\u001b[1;36m\u001b[0m\n\u001b[1;33m    False= \"Abdur\"\u001b[0m\n\u001b[1;37m    ^\u001b[0m\n\u001b[1;31mSyntaxError\u001b[0m\u001b[1;31m:\u001b[0m cannot assign to False\n"
     ]
    }
   ],
   "source": [
    "False= \"Abdur\" #valid keyword can not be a variable "
   ]
  },
  {
   "cell_type": "code",
   "execution_count": null,
   "id": "dfed7c9c-3603-4fce-9fe1-cb168a0b5e1f",
   "metadata": {},
   "outputs": [],
   "source": []
  }
 ],
 "metadata": {
  "kernelspec": {
   "display_name": "Python 3 (ipykernel)",
   "language": "python",
   "name": "python3"
  },
  "language_info": {
   "codemirror_mode": {
    "name": "ipython",
    "version": 3
   },
   "file_extension": ".py",
   "mimetype": "text/x-python",
   "name": "python",
   "nbconvert_exporter": "python",
   "pygments_lexer": "ipython3",
   "version": "3.12.7"
  }
 },
 "nbformat": 4,
 "nbformat_minor": 5
}
